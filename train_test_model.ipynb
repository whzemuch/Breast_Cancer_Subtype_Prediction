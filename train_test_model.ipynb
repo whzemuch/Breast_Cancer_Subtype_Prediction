{
 "cells": [
  {
   "cell_type": "code",
   "execution_count": 7,
   "id": "9f0ff37b-f77e-4c1f-8184-98a7496ef2e9",
   "metadata": {},
   "outputs": [
    {
     "name": "stdout",
     "output_type": "stream",
     "text": [
      "0.21.0+cu124\n"
     ]
    }
   ],
   "source": [
    "import torchvision\n",
    "print(torchvision.__version__)"
   ]
  },
  {
   "cell_type": "code",
   "execution_count": 1,
   "id": "20b574f0-38db-461f-8978-5c8fd19a9017",
   "metadata": {},
   "outputs": [],
   "source": [
    "from utils import Config\n",
    "from data_loader import MultiOmicsDataset, create_dataloaders"
   ]
  },
  {
   "cell_type": "code",
   "execution_count": 26,
   "id": "404cc138-0bad-4353-9ca3-4bb0ff89e007",
   "metadata": {},
   "outputs": [
    {
     "name": "stdout",
     "output_type": "stream",
     "text": [
      "The autoreload extension is already loaded. To reload it, use:\n",
      "  %reload_ext autoreload\n"
     ]
    }
   ],
   "source": [
    "# # Reload all modules every time before executing code\n",
    "%load_ext autoreload\n",
    "%autoreload 2  "
   ]
  },
  {
   "cell_type": "markdown",
   "id": "0e2f2bc1-510e-4f04-8fe6-b8b843899214",
   "metadata": {},
   "source": [
    "### 1. Test Config class"
   ]
  },
  {
   "cell_type": "code",
   "execution_count": 3,
   "id": "a0e77822-9622-4123-8cc9-ee5ef30b8181",
   "metadata": {},
   "outputs": [
    {
     "data": {
      "text/plain": [
       "Config({'data_dir': './data/clean_data', 'omics': Config({'methyl': Config({'file': 'methy.csv', 'dtype': 'float32', 'reshape': [50, 100]}), 'mirna': Config({'file': 'mirna.csv', 'dtype': 'float32'}), 'rna': Config({'file': 'exp.csv', 'dtype': 'float32'})}), 'labels': Config({'file': 'label.csv', 'dtype': 'int16', 'squeeze': True}), 'loader': Config({'batch_size': 64, 'num_workers': 8, 'seed': 42, 'splits': Config({'train': 0.7, 'val': 0.15, 'test': 0.15})})})"
      ]
     },
     "execution_count": 3,
     "metadata": {},
     "output_type": "execute_result"
    }
   ],
   "source": [
    "config = Config.from_yaml(\"configs/data_config.yaml\")\n",
    "config"
   ]
  },
  {
   "cell_type": "code",
   "execution_count": 4,
   "id": "e1e96cf1-7db7-4bdb-93d3-2f3432c44b3a",
   "metadata": {},
   "outputs": [],
   "source": [
    "dataset = MultiOmicsDataset(config)"
   ]
  },
  {
   "cell_type": "code",
   "execution_count": 5,
   "id": "60bfd1a9-e854-4a08-9b21-b021f0855a13",
   "metadata": {},
   "outputs": [
    {
     "data": {
      "text/plain": [
       "[('methyl', (439, 50, 100)), ('mirna', (439, 1046)), ('rna', (439, 13054))]"
      ]
     },
     "execution_count": 5,
     "metadata": {},
     "output_type": "execute_result"
    }
   ],
   "source": [
    "[(name, x.shape) for name, x in dataset.data.items()]"
   ]
  },
  {
   "cell_type": "code",
   "execution_count": 6,
   "id": "e34b3015-5a28-468d-9802-94d5acec3c8e",
   "metadata": {},
   "outputs": [
    {
     "data": {
      "text/plain": [
       "Config({'data_dir': './data/clean_data', 'omics': Config({'mirna': Config({'file': 'mirna.csv', 'dtype': 'float32'})}), 'labels': Config({'file': 'label.csv', 'dtype': 'int16', 'squeeze': True})})"
      ]
     },
     "execution_count": 6,
     "metadata": {},
     "output_type": "execute_result"
    }
   ],
   "source": [
    "config_mirna = Config.from_yaml(\"configs/data_config_mirna.yaml\")\n",
    "config_mirna"
   ]
  },
  {
   "cell_type": "code",
   "execution_count": 7,
   "id": "3c750a72-fbfd-4727-bc57-a295ee7c71ff",
   "metadata": {},
   "outputs": [],
   "source": [
    "dataset_mirna  =  MultiOmicsDataset(config_mirna)"
   ]
  },
  {
   "cell_type": "code",
   "execution_count": 8,
   "id": "cfb0762f-b652-4552-98c3-bb9f4e10548c",
   "metadata": {},
   "outputs": [
    {
     "data": {
      "text/plain": [
       "({'mirna': tensor([13.0402, 14.0594, 13.0643,  ...,  6.0753,  9.3519, 16.5759])},\n",
       " tensor(0))"
      ]
     },
     "execution_count": 8,
     "metadata": {},
     "output_type": "execute_result"
    }
   ],
   "source": [
    "dataset_mirna[1] "
   ]
  },
  {
   "cell_type": "markdown",
   "id": "104c2e7c-6a96-46a5-8166-e3b16ef0c7c7",
   "metadata": {},
   "source": [
    "### 2. Test Dataset and dataloader"
   ]
  },
  {
   "cell_type": "code",
   "execution_count": 9,
   "id": "99257e97-fa9d-46e9-9e61-f204deed670d",
   "metadata": {},
   "outputs": [],
   "source": [
    "config = Config.from_yaml(\"configs/data_config_wo_reshape.yaml\")"
   ]
  },
  {
   "cell_type": "code",
   "execution_count": 10,
   "id": "3c4f4837-9e5f-4a66-a675-9609cb812f33",
   "metadata": {},
   "outputs": [],
   "source": [
    "dataset = MultiOmicsDataset(config)"
   ]
  },
  {
   "cell_type": "code",
   "execution_count": 26,
   "id": "8d2b7015-6801-4e71-ae4a-bd6705c67da7",
   "metadata": {},
   "outputs": [],
   "source": [
    "dataloaders = create_dataloaders(dataset, config)"
   ]
  },
  {
   "cell_type": "code",
   "execution_count": 27,
   "id": "d43cf8a1-3f37-4671-9372-14b391fe79e8",
   "metadata": {},
   "outputs": [
    {
     "name": "stdout",
     "output_type": "stream",
     "text": [
      "torch.Size([64, 1, 50, 100])\n",
      "torch.Size([64, 13054])\n",
      "torch.Size([64, 1, 50, 100])\n",
      "torch.Size([64, 13054])\n",
      "torch.Size([64, 1, 50, 100])\n",
      "torch.Size([64, 13054])\n",
      "torch.Size([64, 1, 50, 100])\n",
      "torch.Size([64, 13054])\n",
      "torch.Size([51, 1, 50, 100])\n",
      "torch.Size([51, 13054])\n"
     ]
    }
   ],
   "source": [
    "# Check if wi_reshpae option works\n",
    "\n",
    "config = Config.from_yaml(\"configs/data_config.yaml\")\n",
    "\n",
    "dataset = MultiOmicsDataset(config)\n",
    "dataloaders = create_dataloaders(dataset, config)\n",
    "\n",
    "for batch in dataloaders['train']:\n",
    "    batch_data, batch_labels = batch\n",
    "    \n",
    "    print(batch_data['methyl'].shape) # Shape: (B, C, H, W)\n",
    "    print( batch_data['rna'].shape)   "
   ]
  },
  {
   "cell_type": "code",
   "execution_count": 29,
   "id": "8d17b691-275b-428a-9301-2303b5ca7392",
   "metadata": {},
   "outputs": [
    {
     "name": "stdout",
     "output_type": "stream",
     "text": [
      "torch.Size([64, 1, 5000])\n",
      "torch.Size([64, 13054])\n",
      "torch.Size([64, 1, 5000])\n",
      "torch.Size([64, 13054])\n",
      "torch.Size([64, 1, 5000])\n",
      "torch.Size([64, 13054])\n",
      "torch.Size([64, 1, 5000])\n",
      "torch.Size([64, 13054])\n",
      "torch.Size([51, 1, 5000])\n",
      "torch.Size([51, 13054])\n"
     ]
    }
   ],
   "source": [
    "# Check if wo_reshpae option works\n",
    "\n",
    "config = Config.from_yaml(\"configs/data_config_wo_reshape.yaml\")\n",
    "\n",
    "dataset = MultiOmicsDataset(config)\n",
    "dataloaders = create_dataloaders(dataset, config)\n",
    "\n",
    "dataset = MultiOmicsDataset(config)\n",
    "for batch in dataloaders['train']:\n",
    "    batch_data, batch_labels = batch\n",
    "    \n",
    "    print(batch_data['methyl'].shape) \n",
    "    print( batch_data['rna'].shape) "
   ]
  },
  {
   "cell_type": "markdown",
   "id": "9e814903-d7d2-47f9-85f2-184c7010c9be",
   "metadata": {},
   "source": [
    "### 3. Test VAEencoder"
   ]
  },
  {
   "cell_type": "code",
   "execution_count": 33,
   "id": "bbb28723-c601-4315-8d52-8706988a5474",
   "metadata": {},
   "outputs": [
    {
     "name": "stdout",
     "output_type": "stream",
     "text": [
      "Input shape: torch.Size([64, 1046])\n",
      "✅ z shape:      torch.Size([64, 64])\n",
      "✅ mu shape:     torch.Size([64, 64])\n",
      "✅ logvar shape: torch.Size([64, 64])\n",
      "✅ KL divergence: nan\n"
     ]
    }
   ],
   "source": [
    "\n",
    "from models.vae import VAEEncoder  # adjust the import path to match your repo\n",
    "\n",
    "# Choose modality: \"mirna\" or \"rna\"\n",
    "modality = \"mirna\"  # ← change this as needed\n",
    "\n",
    "# Load config and dataset\n",
    "config = Config.from_yaml(\"configs/data_config_wo_reshape.yaml\")\n",
    "input_dim = 1046\n",
    "latent_dim = 64\n",
    "\n",
    "dataset = MultiOmicsDataset(config)\n",
    "dataloaders = create_dataloaders(dataset, config)\n",
    "\n",
    "# Instantiate VAE\n",
    "vae = VAEEncoder(input_dim=input_dim, latent_dim=latent_dim)\n",
    "vae.eval()\n",
    "\n",
    "# Test VAE with one batch\n",
    "for batch_data, batch_labels in dataloaders[\"train\"]:\n",
    "    x = batch_data[modality]\n",
    "    print(\"Input shape:\", x.shape)\n",
    "\n",
    "    with torch.no_grad():\n",
    "        z, mu, logvar = vae(x)\n",
    "        kl = vae.kl_divergence(mu, logvar)\n",
    "\n",
    "    print(\"✅ z shape:     \", z.shape)\n",
    "    print(\"✅ mu shape:    \", mu.shape)\n",
    "    print(\"✅ logvar shape:\", logvar.shape)\n",
    "    print(\"✅ KL divergence:\", kl.item())\n",
    "\n",
    "    assert z.shape == (x.size(0), latent_dim)\n",
    "    assert mu.shape == logvar.shape == (x.size(0), latent_dim)\n",
    "\n",
    "    break  # just test one batch\n",
    "\n"
   ]
  },
  {
   "cell_type": "markdown",
   "id": "7f420cee-c014-4ed6-b5f7-9a14ee76584d",
   "metadata": {},
   "source": [
    "### 4. Test convnext model"
   ]
  },
  {
   "cell_type": "code",
   "execution_count": 29,
   "id": "6dd7d3e6-6d03-425b-ad32-4e5781e44ce4",
   "metadata": {},
   "outputs": [
    {
     "name": "stdout",
     "output_type": "stream",
     "text": [
      "✅ Input shape:  torch.Size([64, 1, 50, 100])\n",
      "✅ Output shape: torch.Size([64, 64])\n"
     ]
    }
   ],
   "source": [
    "import torch\n",
    "from models import MiniConvNeXtMethylation  # adjust path as needed\n",
    "\n",
    "\n",
    "# Load config\n",
    "config = Config.from_yaml(\"configs/data_config.yaml\")\n",
    "\n",
    "\n",
    "# Load dataset and dataloaders\n",
    "dataset = MultiOmicsDataset(config)\n",
    "dataloaders = create_dataloaders(dataset, config)\n",
    "\n",
    "# Instantiate encoder (output latent dim should match your model)\n",
    "latent_dim = 64\n",
    "model = MiniConvNeXtMethylation(latent_dim=latent_dim)\n",
    "model.eval()  # optional: disable dropout, etc.\n",
    "\n",
    "# Test one batch from training data\n",
    "for batch_data, batch_labels in dataloaders[\"train\"]:\n",
    "    methyl_batch = batch_data[\"methyl\"]  # shape: (B, 1, 50, 100)\n",
    "    \n",
    "    # Forward pass\n",
    "    with torch.no_grad():\n",
    "        out = model(methyl_batch)\n",
    "\n",
    "    print(\"✅ Input shape: \", methyl_batch.shape)\n",
    "    print(\"✅ Output shape:\", out.shape)\n",
    "\n",
    "    # Optional: assert expected output shape\n",
    "    assert out.shape == (methyl_batch.size(0), latent_dim), \\\n",
    "        f\"Expected output shape ({methyl_batch.size(0)}, {latent_dim}), but got {out.shape}\"\n",
    "\n",
    "    break  # only test one batch\n"
   ]
  },
  {
   "cell_type": "markdown",
   "id": "1b58a828-557d-4adf-b57d-057c74b7dacc",
   "metadata": {},
   "source": [
    "### 5. Test MultimodalFusion"
   ]
  },
  {
   "cell_type": "code",
   "execution_count": 35,
   "id": "333e89fe-b210-4001-81c7-aa787fd932ab",
   "metadata": {},
   "outputs": [
    {
     "name": "stdout",
     "output_type": "stream",
     "text": [
      "✅ Input shapes: methy torch.Size([8, 64]) mirna torch.Size([8, 64]) rna torch.Size([8, 64])\n",
      "✅ Fused output shape: torch.Size([8, 64])\n",
      "✅ MultimodalFusion test passed!\n"
     ]
    }
   ],
   "source": [
    "import torch\n",
    "from models import MultimodalFusion  # adjust path as needed\n",
    "\n",
    "def test_multimodal_fusion():\n",
    "    batch_size = 8\n",
    "    latent_dim = 64\n",
    "\n",
    "    # Simulated modality embeddings (from encoder output)\n",
    "    methy = torch.randn(batch_size, latent_dim)\n",
    "    mirna = torch.randn(batch_size, latent_dim)\n",
    "    rna   = torch.randn(batch_size, latent_dim)\n",
    "\n",
    "    # Instantiate fusion module\n",
    "    fusion_model = MultimodalFusion(latent_dim=latent_dim, num_heads=4)\n",
    "    fusion_model.eval()\n",
    "\n",
    "    # Forward pass\n",
    "    with torch.no_grad():\n",
    "        fused = fusion_model([methy, mirna, rna])\n",
    "\n",
    "    print(\"✅ Input shapes: methy\", methy.shape, \"mirna\", mirna.shape, \"rna\", rna.shape)\n",
    "    print(\"✅ Fused output shape:\", fused.shape)\n",
    "\n",
    "    # Assertions\n",
    "    assert fused.shape == (batch_size, latent_dim), \\\n",
    "        f\"Expected output shape ({batch_size}, {latent_dim}), but got {fused.shape}\"\n",
    "\n",
    "    print(\"✅ MultimodalFusion test passed!\")\n",
    "\n",
    "# Run the test\n",
    "test_multimodal_fusion()\n"
   ]
  },
  {
   "cell_type": "code",
   "execution_count": 44,
   "id": "7c12ff4b-d7c5-4448-bad7-3b97b1c1e88f",
   "metadata": {},
   "outputs": [
    {
     "name": "stdout",
     "output_type": "stream",
     "text": [
      "✅ Encoded methylation: torch.Size([64, 64])\n",
      "✅ Encoded mirna:       torch.Size([64, 64])\n",
      "✅ Encoded rna:         torch.Size([64, 64])\n",
      "✅ Fused output shape:  torch.Size([64, 64])\n",
      "✅ Real-data MultimodalFusion test passed!\n"
     ]
    }
   ],
   "source": [
    "\n",
    "from models import MiniConvNeXtMethylation, VAEEncoder, MultimodalFusion\n",
    "\n",
    "\n",
    "def test_fusion_with_real_data():\n",
    "    # Load config and dataset\n",
    "    config = Config.from_yaml(\"configs/data_config.yaml\")\n",
    "    dataloaders = create_dataloaders(MultiOmicsDataset(config), config)\n",
    "    \n",
    "    # Get model input dims\n",
    "    mirna_dim = 1046\n",
    "    rna_dim = 13054\n",
    "    methy_shape = (50, 100)  # e.g., (50, 100)\n",
    "    latent_dim = 64\n",
    "\n",
    "    # Initialize encoders\n",
    "    methy_encoder = MiniConvNeXtMethylation(latent_dim=latent_dim, input_size=methy_shape)\n",
    "    mirna_encoder = VAEEncoder(input_dim=mirna_dim, latent_dim=latent_dim)\n",
    "    rna_encoder = VAEEncoder(input_dim=rna_dim, latent_dim=latent_dim)\n",
    "\n",
    "    # Fusion model\n",
    "    fusion_model = MultimodalFusion(latent_dim=latent_dim, num_heads=4)\n",
    "\n",
    "    # Get one batch from train loader\n",
    "    for batch_data, batch_labels in dataloaders['train']:\n",
    "        x_methy = batch_data['methyl']  # shape: [B, 1, 50, 100]\n",
    "        x_mirna = batch_data['mirna']   # shape: [B, mirna_dim]\n",
    "        x_rna   = batch_data['rna']     # shape: [B, rna_dim]\n",
    "\n",
    "        # Encode each modality\n",
    "        with torch.no_grad():\n",
    "            z_methy = methy_encoder(x_methy)\n",
    "            z_mirna, _, _ = mirna_encoder(x_mirna)\n",
    "            z_rna, _, _ = rna_encoder(x_rna)\n",
    "\n",
    "            # Fuse features\n",
    "            fused = fusion_model([z_methy, z_mirna, z_rna])\n",
    "\n",
    "        # Print and assert\n",
    "        print(\"✅ Encoded methylation:\", z_methy.shape)\n",
    "        print(\"✅ Encoded mirna:      \", z_mirna.shape)\n",
    "        print(\"✅ Encoded rna:        \", z_rna.shape)\n",
    "        print(\"✅ Fused output shape: \", fused.shape)\n",
    "\n",
    "        assert fused.shape == (x_methy.size(0), latent_dim), \"Fused output shape mismatch\"\n",
    "        print(\"✅ Real-data MultimodalFusion test passed!\")\n",
    "\n",
    "        break  # only one batch\n",
    "\n",
    "# Run the test\n",
    "test_fusion_with_real_data()\n"
   ]
  },
  {
   "cell_type": "markdown",
   "id": "7231250c-6def-44f7-a2de-3f9a53a52d6f",
   "metadata": {},
   "source": [
    "### 6. Test MultiOmicsClassifier"
   ]
  },
  {
   "cell_type": "code",
   "execution_count": 3,
   "id": "79eb55a7-4a60-402b-b370-f9d509d321ca",
   "metadata": {},
   "outputs": [
    {
     "name": "stdout",
     "output_type": "stream",
     "text": [
      "✅ logits shape: torch.Size([4, 4])\n",
      "✅ mu_mirna shape: torch.Size([4, 64])\n",
      "✅ mu_rna shape: torch.Size([4, 64])\n",
      "✅ MultiOmicsClassifier test passed!\n"
     ]
    }
   ],
   "source": [
    "from models import MultiOmicsClassifier  # adjust import\n",
    "import torch\n",
    "\n",
    "def test_multiomics_classifier():\n",
    "    # Define input sizes\n",
    "    batch_size = 4\n",
    "    mirna_dim = 1046\n",
    "    rna_exp_dim = 13054\n",
    "    methy_shape = (50, 100)  # e.g., (50, 100)\n",
    "    latent_dim = 64\n",
    "    num_classes = 4\n",
    "\n",
    "    # Instantiate the model\n",
    "    model = MultiOmicsClassifier(\n",
    "        mirna_dim=mirna_dim,\n",
    "        rna_exp_dim=rna_exp_dim,\n",
    "        methy_shape=methy_shape,\n",
    "        latent_dim=latent_dim,\n",
    "        num_classes=num_classes\n",
    "    )\n",
    "    model.eval()\n",
    "\n",
    "    # Create fake input tensors\n",
    "    x_methy = torch.randn(batch_size, 1, *methy_shape)\n",
    "    x_mirna = torch.randn(batch_size, mirna_dim)\n",
    "    x_rna = torch.randn(batch_size, rna_exp_dim)\n",
    "\n",
    "    # Forward pass\n",
    "    with torch.no_grad():\n",
    "        outputs = model(x_methy, x_mirna, x_rna)\n",
    "\n",
    "    # Assertions\n",
    "    assert outputs['logits'].shape == (batch_size, num_classes), \"❌ logits shape mismatch\"\n",
    "    assert outputs['mu_mirna'].shape == (batch_size, latent_dim), \"❌ mu_mirna shape mismatch\"\n",
    "    assert outputs['logvar_mirna'].shape == (batch_size, latent_dim), \"❌ logvar_mirna shape mismatch\"\n",
    "    assert outputs['mu_rna'].shape == (batch_size, latent_dim), \"❌ mu_rna shape mismatch\"\n",
    "    assert outputs['logvar_rna'].shape == (batch_size, latent_dim), \"❌ logvar_rna shape mismatch\"\n",
    "\n",
    "    # Print confirmations\n",
    "    print(\"✅ logits shape:\", outputs['logits'].shape)\n",
    "    print(\"✅ mu_mirna shape:\", outputs['mu_mirna'].shape)\n",
    "    print(\"✅ mu_rna shape:\", outputs['mu_rna'].shape)\n",
    "    print(\"✅ MultiOmicsClassifier test passed!\")\n",
    "\n",
    "# Run the test\n",
    "test_multiomics_classifier()\n",
    "\n"
   ]
  },
  {
   "cell_type": "code",
   "execution_count": 51,
   "id": "ac8458cb-3921-4b1a-b703-7eae2b630ea7",
   "metadata": {},
   "outputs": [
    {
     "name": "stdout",
     "output_type": "stream",
     "text": [
      "✅ Real-batch MultiOmicsClassifier forward test:\n",
      "   Logits shape:      torch.Size([64, 4])\n",
      "   mu_mirna shape:    torch.Size([64, 64])\n",
      "   mu_rna shape:      torch.Size([64, 64])\n"
     ]
    }
   ],
   "source": [
    "\n",
    "def test_multiomics_classifier_with_real_data():\n",
    "    # Load config and dataset\n",
    "    config = Config.from_yaml(\"configs/data_config.yaml\")\n",
    "    dataloaders = create_dataloaders(MultiOmicsDataset(config), config)\n",
    "\n",
    "    # Get model input sizes from config\n",
    "    # mirna_dim = config['omics']['mirna']['dim']\n",
    "    # rna_exp_dim = config['omics']['rna']['dim']\n",
    "    # methy_shape = tuple(config['omics']['methyl']['reshape'])  # e.g., (50, 100)\n",
    "    # latent_dim = 64\n",
    "    # num_classes = config['labels']['num_classes'] if 'num_classes' in config['labels'] else 4\n",
    "\n",
    "    batch_size = 4\n",
    "    mirna_dim = 1046\n",
    "    rna_exp_dim = 13054\n",
    "    methy_shape = (50, 100)  # e.g., (50, 100)\n",
    "    latent_dim = 64\n",
    "    num_classes = 4\n",
    "\n",
    "    # Instantiate model\n",
    "    model = MultiOmicsClassifier(\n",
    "        mirna_dim=mirna_dim,\n",
    "        rna_exp_dim=rna_exp_dim,\n",
    "        methy_shape=methy_shape,\n",
    "        latent_dim=latent_dim,\n",
    "        num_classes=num_classes\n",
    "    )\n",
    "    model.eval()\n",
    "\n",
    "    # Test one batch from dataloader\n",
    "    for batch_data, batch_labels in dataloaders[\"train\"]:\n",
    "        x_methy = batch_data[\"methyl\"]\n",
    "        x_mirna = batch_data[\"mirna\"]\n",
    "        x_rna   = batch_data[\"rna\"]\n",
    "\n",
    "        with torch.no_grad():\n",
    "            outputs = model(x_methy, x_mirna, x_rna)\n",
    "\n",
    "        # Assertions\n",
    "        assert outputs['logits'].shape == (x_methy.size(0), num_classes)\n",
    "        assert outputs['mu_mirna'].shape == outputs['logvar_mirna'].shape == (x_methy.size(0), latent_dim)\n",
    "        assert outputs['mu_rna'].shape == outputs['logvar_rna'].shape == (x_methy.size(0), latent_dim)\n",
    "\n",
    "        # Print results\n",
    "        print(\"✅ Real-batch MultiOmicsClassifier forward test:\")\n",
    "        print(\"   Logits shape:     \", outputs['logits'].shape)\n",
    "        print(\"   mu_mirna shape:   \", outputs['mu_mirna'].shape)\n",
    "        print(\"   mu_rna shape:     \", outputs['mu_rna'].shape)\n",
    "        break  # just test one batch\n",
    "\n",
    "# Run the test\n",
    "test_multiomics_classifier_with_real_data()\n"
   ]
  },
  {
   "cell_type": "markdown",
   "id": "32f6a115-4f1a-4420-afd7-44cd6b2f145c",
   "metadata": {},
   "source": [
    "### 7. Run pytest"
   ]
  },
  {
   "cell_type": "code",
   "execution_count": 4,
   "id": "d16e7035-fbd1-40ad-bb0e-d06d4c9b7bef",
   "metadata": {},
   "outputs": [
    {
     "name": "stdout",
     "output_type": "stream",
     "text": [
      "\u001b[1m============================= test session starts ==============================\u001b[0m\n",
      "platform linux -- Python 3.11.11, pytest-8.3.5, pluggy-1.5.0 -- /home/CBBI/wangh5/miniforge3/envs/cs7643_a4_generative/bin/python3.11\n",
      "cachedir: .pytest_cache\n",
      "rootdir: /home/CBBI/wangh5/_PyCharm/proj_dl\n",
      "configfile: pytest.ini\n",
      "plugins: anyio-4.9.0\n",
      "\u001b[1mcollecting ... \u001b[0mcollected 5 items\n",
      "\n",
      "tests/test_02_model_components.py::test_vae_forward \u001b[32mPASSED\u001b[0m\u001b[32m               [ 20%]\u001b[0m\n",
      "tests/test_02_model_components.py::test_mirna_vae_forward \u001b[32mPASSED\u001b[0m\u001b[32m         [ 40%]\u001b[0m\n",
      "tests/test_02_model_components.py::test_mini_convnext \u001b[32mPASSED\u001b[0m\u001b[32m             [ 60%]\u001b[0m\n",
      "tests/test_02_model_components.py::test_transformer_fusion \u001b[32mPASSED\u001b[0m\u001b[32m        [ 80%]\u001b[0m\n",
      "tests/test_02_model_components.py::test_fusion_classifier \u001b[32mPASSED\u001b[0m\u001b[32m         [100%]\u001b[0m\n",
      "\n",
      "\u001b[32m============================== \u001b[32m\u001b[1m5 passed\u001b[0m\u001b[32m in 0.27s\u001b[0m\u001b[32m ===============================\u001b[0m\n"
     ]
    }
   ],
   "source": [
    "%%bash\n",
    "pytest -v\n"
   ]
  },
  {
   "cell_type": "code",
   "execution_count": 1,
   "id": "5553defd-dcfa-4e5c-9728-65363ac6b417",
   "metadata": {},
   "outputs": [],
   "source": [
    "import torch\n",
    "from utils import Config\n",
    "from data_loader import MultiOmicsDataset, create_dataloaders\n",
    "from models import MultiOmicsClassifier "
   ]
  },
  {
   "cell_type": "code",
   "execution_count": 2,
   "id": "2030e458-0835-448d-a21f-014fe0636b9a",
   "metadata": {},
   "outputs": [],
   "source": [
    "from trainers import BaseTrainer\n",
    "from losses import MultiOmicsLoss"
   ]
  },
  {
   "cell_type": "code",
   "execution_count": 3,
   "id": "cdae0a55-4913-441f-b0d8-1895dd5ab2a2",
   "metadata": {},
   "outputs": [],
   "source": [
    "config = Config.from_yaml(\"configs/data_config.yaml\")\n",
    "\n",
    "dataset = MultiOmicsDataset(config)\n",
    "dataloaders = create_dataloaders(dataset, config)\n",
    "\n"
   ]
  },
  {
   "cell_type": "code",
   "execution_count": 4,
   "id": "d8796442-64ae-4c7d-a6eb-5dadf95c3aa1",
   "metadata": {},
   "outputs": [],
   "source": [
    "batch_size = 4\n",
    "mirna_dim = 1046\n",
    "rna_exp_dim = 13054\n",
    "methy_shape = (50, 100)  # e.g., (50, 100)\n",
    "latent_dim = 64\n",
    "num_classes = 5\n",
    "\n",
    "# Instantiate model\n",
    "multiomics_model = MultiOmicsClassifier(\n",
    "    mirna_dim=mirna_dim,\n",
    "    rna_exp_dim=rna_exp_dim,\n",
    "    methy_shape=methy_shape,\n",
    "    latent_dim=latent_dim,\n",
    "    num_classes=num_classes\n",
    ")"
   ]
  },
  {
   "cell_type": "code",
   "execution_count": 14,
   "id": "46372e71-4c91-4891-ad97-dc4dde3fc514",
   "metadata": {},
   "outputs": [
    {
     "name": "stdout",
     "output_type": "stream",
     "text": [
      "\n",
      "Epoch 1/20\n"
     ]
    },
    {
     "name": "stderr",
     "output_type": "stream",
     "text": [
      "Training:   0%|                                                                                                                                                                                                                                          | 0/5 [00:00<?, ?it/s]/home/CBBI/wangh5/_PyCharm/proj_dl/losses/multi_omics.py:74: UserWarning: To copy construct from a tensor, it is recommended to use sourceTensor.clone().detach() or sourceTensor.clone().detach().requires_grad_(True), rather than torch.tensor(sourceTensor).\n",
      "  'beta': torch.tensor(self.beta, device=self.current_step.device)\n",
      "Training: 100%|█████████████████████████████████████████████████████████████████████████████████████████████████████████████████████████████████████████████████████████████████████████████████████████████████████████████████████| 5/5 [00:00<00:00,  9.40it/s, loss=0.0388]\n"
     ]
    },
    {
     "name": "stdout",
     "output_type": "stream",
     "text": [
      "[DEBUG] CE: 0.0330, KL_mirna: 10.3765, KL_rna: 19.4689\n",
      "[DEBUG] CE: 0.0443, KL_mirna: 11.0556, KL_rna: 20.4731\n",
      "[DEBUG] CE: 0.0319, KL_mirna: 11.0932, KL_rna: 20.9168\n",
      "[DEBUG] CE: 0.0273, KL_mirna: 11.3598, KL_rna: 20.1461\n",
      "[DEBUG] CE: 0.0377, KL_mirna: 10.9328, KL_rna: 17.5019\n",
      "Train Loss: 0.0355\n"
     ]
    },
    {
     "name": "stderr",
     "output_type": "stream",
     "text": [
      "Validation: 100%|████████████████████████████████████████████████████████████████████████████████████████████████████████████████████████████████████████████████████████████████████████████████████████████████████████████████████████████████| 2/2 [00:00<00:00,  5.14it/s]\n"
     ]
    },
    {
     "name": "stdout",
     "output_type": "stream",
     "text": [
      "[DEBUG] CE: 0.6272, KL_mirna: 6.4601, KL_rna: 15.1710\n",
      "[DEBUG] CE: 0.2024, KL_mirna: 5.2704, KL_rna: 14.2754\n",
      "Val Loss:   0.4159\n",
      "\n",
      "Epoch 2/20\n"
     ]
    },
    {
     "name": "stderr",
     "output_type": "stream",
     "text": [
      "Training: 100%|█████████████████████████████████████████████████████████████████████████████████████████████████████████████████████████████████████████████████████████████████████████████████████████████████████████████████████| 5/5 [00:00<00:00, 12.79it/s, loss=0.0661]"
     ]
    },
    {
     "name": "stdout",
     "output_type": "stream",
     "text": [
      "[DEBUG] CE: 0.0306, KL_mirna: 10.8185, KL_rna: 21.8646\n",
      "[DEBUG] CE: 0.0403, KL_mirna: 11.3067, KL_rna: 20.0635\n",
      "[DEBUG] CE: 0.0259, KL_mirna: 11.9370, KL_rna: 21.9443\n",
      "[DEBUG] CE: 0.0326, KL_mirna: 11.9157, KL_rna: 21.8530\n",
      "[DEBUG] CE: 0.0627, KL_mirna: 12.0789, KL_rna: 18.8194\n"
     ]
    },
    {
     "name": "stderr",
     "output_type": "stream",
     "text": [
      "Training: 100%|█████████████████████████████████████████████████████████████████████████████████████████████████████████████████████████████████████████████████████████████████████████████████████████████████████████████████████| 5/5 [00:00<00:00,  9.14it/s, loss=0.0661]\n"
     ]
    },
    {
     "name": "stdout",
     "output_type": "stream",
     "text": [
      "Train Loss: 0.0414\n"
     ]
    },
    {
     "name": "stderr",
     "output_type": "stream",
     "text": [
      "Validation: 100%|████████████████████████████████████████████████████████████████████████████████████████████████████████████████████████████████████████████████████████████████████████████████████████████████████████████████████████████████| 2/2 [00:00<00:00,  5.01it/s]\n"
     ]
    },
    {
     "name": "stdout",
     "output_type": "stream",
     "text": [
      "[DEBUG] CE: 0.4437, KL_mirna: 6.4762, KL_rna: 14.8045\n",
      "[DEBUG] CE: 0.0502, KL_mirna: 5.3521, KL_rna: 13.1083\n",
      "Val Loss:   0.2494\n",
      "\n",
      "Epoch 3/20\n"
     ]
    },
    {
     "name": "stderr",
     "output_type": "stream",
     "text": [
      "Training: 100%|█████████████████████████████████████████████████████████████████████████████████████████████████████████████████████████████████████████████████████████████████████████████████████████████████████████████████████| 5/5 [00:00<00:00, 13.75it/s, loss=0.0305]"
     ]
    },
    {
     "name": "stdout",
     "output_type": "stream",
     "text": [
      "[DEBUG] CE: 0.0206, KL_mirna: 11.1348, KL_rna: 22.3019\n",
      "[DEBUG] CE: 0.0314, KL_mirna: 11.2031, KL_rna: 21.4499\n",
      "[DEBUG] CE: 0.0202, KL_mirna: 11.7427, KL_rna: 22.0031\n",
      "[DEBUG] CE: 0.0391, KL_mirna: 11.8407, KL_rna: 21.3725\n",
      "[DEBUG] CE: 0.0243, KL_mirna: 11.6211, KL_rna: 22.8478\n"
     ]
    },
    {
     "name": "stderr",
     "output_type": "stream",
     "text": [
      "Training: 100%|█████████████████████████████████████████████████████████████████████████████████████████████████████████████████████████████████████████████████████████████████████████████████████████████████████████████████████| 5/5 [00:00<00:00,  9.70it/s, loss=0.0305]\n"
     ]
    },
    {
     "name": "stdout",
     "output_type": "stream",
     "text": [
      "Train Loss: 0.0325\n"
     ]
    },
    {
     "name": "stderr",
     "output_type": "stream",
     "text": [
      "Validation: 100%|████████████████████████████████████████████████████████████████████████████████████████████████████████████████████████████████████████████████████████████████████████████████████████████████████████████████████████████████| 2/2 [00:00<00:00,  4.54it/s]\n"
     ]
    },
    {
     "name": "stdout",
     "output_type": "stream",
     "text": [
      "[DEBUG] CE: 0.4835, KL_mirna: 6.5299, KL_rna: 15.3804\n",
      "[DEBUG] CE: 0.5127, KL_mirna: 5.4663, KL_rna: 12.7222\n",
      "Val Loss:   0.5020\n",
      "\n",
      "Epoch 4/20\n"
     ]
    },
    {
     "name": "stderr",
     "output_type": "stream",
     "text": [
      "Training: 100%|█████████████████████████████████████████████████████████████████████████████████████████████████████████████████████████████████████████████████████████████████████████████████████████████████████████████████████| 5/5 [00:00<00:00,  9.06it/s, loss=0.0463]"
     ]
    },
    {
     "name": "stdout",
     "output_type": "stream",
     "text": [
      "[DEBUG] CE: 0.0268, KL_mirna: 11.5958, KL_rna: 22.3432\n",
      "[DEBUG] CE: 0.0261, KL_mirna: 11.6548, KL_rna: 22.4181\n",
      "[DEBUG] CE: 0.0312, KL_mirna: 11.1737, KL_rna: 23.1062\n",
      "[DEBUG] CE: 0.0192, KL_mirna: 10.8270, KL_rna: 20.4509\n",
      "[DEBUG] CE: 0.0374, KL_mirna: 11.8502, KL_rna: 23.9759\n",
      "Train Loss: 0.0359\n"
     ]
    },
    {
     "name": "stderr",
     "output_type": "stream",
     "text": [
      "\n",
      "Validation: 100%|████████████████████████████████████████████████████████████████████████████████████████████████████████████████████████████████████████████████████████████████████████████████████████████████████████████████████████████████| 2/2 [00:00<00:00,  4.47it/s]\n"
     ]
    },
    {
     "name": "stdout",
     "output_type": "stream",
     "text": [
      "[DEBUG] CE: 0.4103, KL_mirna: 6.5856, KL_rna: 15.9778\n",
      "[DEBUG] CE: 1.8001, KL_mirna: 5.4520, KL_rna: 12.0945\n",
      "Val Loss:   1.1105\n",
      "\n",
      "Epoch 5/20\n"
     ]
    },
    {
     "name": "stderr",
     "output_type": "stream",
     "text": [
      "Training: 100%|█████████████████████████████████████████████████████████████████████████████████████████████████████████████████████████████████████████████████████████████████████████████████████████████████████████████████████| 5/5 [00:00<00:00,  9.15it/s, loss=0.0418]"
     ]
    },
    {
     "name": "stdout",
     "output_type": "stream",
     "text": [
      "[DEBUG] CE: 0.0227, KL_mirna: 12.5636, KL_rna: 21.7938\n",
      "[DEBUG] CE: 0.0296, KL_mirna: 11.7897, KL_rna: 24.4327\n",
      "[DEBUG] CE: 0.0281, KL_mirna: 11.9000, KL_rna: 22.7658\n",
      "[DEBUG] CE: 0.0226, KL_mirna: 11.5850, KL_rna: 24.8354\n",
      "[DEBUG] CE: 0.0322, KL_mirna: 10.7822, KL_rna: 19.0238\n",
      "Train Loss: 0.0373\n"
     ]
    },
    {
     "name": "stderr",
     "output_type": "stream",
     "text": [
      "\n",
      "Validation: 100%|████████████████████████████████████████████████████████████████████████████████████████████████████████████████████████████████████████████████████████████████████████████████████████████████████████████████████████████████| 2/2 [00:00<00:00,  4.87it/s]\n"
     ]
    },
    {
     "name": "stdout",
     "output_type": "stream",
     "text": [
      "[DEBUG] CE: 0.5679, KL_mirna: 6.5937, KL_rna: 16.1474\n",
      "[DEBUG] CE: 0.0175, KL_mirna: 5.4432, KL_rna: 10.7617\n",
      "Val Loss:   0.2992\n",
      "\n",
      "Epoch 6/20\n"
     ]
    },
    {
     "name": "stderr",
     "output_type": "stream",
     "text": [
      "Training: 100%|█████████████████████████████████████████████████████████████████████████████████████████████████████████████████████████████████████████████████████████████████████████████████████████████████████████████████████| 5/5 [00:00<00:00, 12.70it/s, loss=0.0309]"
     ]
    },
    {
     "name": "stdout",
     "output_type": "stream",
     "text": [
      "[DEBUG] CE: 0.0235, KL_mirna: 11.0401, KL_rna: 22.3334\n",
      "[DEBUG] CE: 0.0255, KL_mirna: 12.7223, KL_rna: 24.9851\n",
      "[DEBUG] CE: 0.0278, KL_mirna: 12.0804, KL_rna: 23.9766\n",
      "[DEBUG] CE: 0.0296, KL_mirna: 11.4176, KL_rna: 23.1180\n",
      "[DEBUG] CE: 0.0170, KL_mirna: 11.3166, KL_rna: 24.3735\n"
     ]
    },
    {
     "name": "stderr",
     "output_type": "stream",
     "text": [
      "Training: 100%|█████████████████████████████████████████████████████████████████████████████████████████████████████████████████████████████████████████████████████████████████████████████████████████████████████████████████████| 5/5 [00:00<00:00,  8.97it/s, loss=0.0309]\n"
     ]
    },
    {
     "name": "stdout",
     "output_type": "stream",
     "text": [
      "Train Loss: 0.0378\n"
     ]
    },
    {
     "name": "stderr",
     "output_type": "stream",
     "text": [
      "Validation: 100%|████████████████████████████████████████████████████████████████████████████████████████████████████████████████████████████████████████████████████████████████████████████████████████████████████████████████████████████████| 2/2 [00:00<00:00,  4.78it/s]\n"
     ]
    },
    {
     "name": "stdout",
     "output_type": "stream",
     "text": [
      "[DEBUG] CE: 0.5057, KL_mirna: 6.6182, KL_rna: 16.3453\n",
      "[DEBUG] CE: 0.1112, KL_mirna: 5.2967, KL_rna: 9.6775\n",
      "Val Loss:   0.3161\n",
      "\n",
      "Epoch 7/20\n"
     ]
    },
    {
     "name": "stderr",
     "output_type": "stream",
     "text": [
      "Training: 100%|█████████████████████████████████████████████████████████████████████████████████████████████████████████████████████████████████████████████████████████████████████████████████████████████████████████████████████| 5/5 [00:00<00:00,  9.76it/s, loss=0.0389]"
     ]
    },
    {
     "name": "stdout",
     "output_type": "stream",
     "text": [
      "[DEBUG] CE: 0.0235, KL_mirna: 11.7584, KL_rna: 24.7989\n",
      "[DEBUG] CE: 0.0321, KL_mirna: 11.4437, KL_rna: 23.5788\n",
      "[DEBUG] CE: 0.0253, KL_mirna: 11.7019, KL_rna: 22.2047\n",
      "[DEBUG] CE: 0.0319, KL_mirna: 11.3890, KL_rna: 22.9551\n",
      "[DEBUG] CE: 0.0222, KL_mirna: 11.6827, KL_rna: 24.7504\n"
     ]
    },
    {
     "name": "stderr",
     "output_type": "stream",
     "text": [
      "\n"
     ]
    },
    {
     "name": "stdout",
     "output_type": "stream",
     "text": [
      "Train Loss: 0.0425\n"
     ]
    },
    {
     "name": "stderr",
     "output_type": "stream",
     "text": [
      "Validation: 100%|████████████████████████████████████████████████████████████████████████████████████████████████████████████████████████████████████████████████████████████████████████████████████████████████████████████████████████████████| 2/2 [00:00<00:00,  5.06it/s]\n"
     ]
    },
    {
     "name": "stdout",
     "output_type": "stream",
     "text": [
      "[DEBUG] CE: 0.4905, KL_mirna: 6.6048, KL_rna: 15.9127\n",
      "[DEBUG] CE: 0.4796, KL_mirna: 5.2505, KL_rna: 10.4467\n",
      "Val Loss:   0.4941\n",
      "\n",
      "Epoch 8/20\n"
     ]
    },
    {
     "name": "stderr",
     "output_type": "stream",
     "text": [
      "Training: 100%|█████████████████████████████████████████████████████████████████████████████████████████████████████████████████████████████████████████████████████████████████████████████████████████████████████████████████████| 5/5 [00:00<00:00, 10.26it/s, loss=0.0496]"
     ]
    },
    {
     "name": "stdout",
     "output_type": "stream",
     "text": [
      "[DEBUG] CE: 0.0296, KL_mirna: 11.7447, KL_rna: 23.7765\n",
      "[DEBUG] CE: 0.0204, KL_mirna: 11.5281, KL_rna: 23.0570\n",
      "[DEBUG] CE: 0.0188, KL_mirna: 13.0813, KL_rna: 23.4500\n",
      "[DEBUG] CE: 0.0272, KL_mirna: 10.5005, KL_rna: 24.8933\n",
      "[DEBUG] CE: 0.0289, KL_mirna: 12.4135, KL_rna: 26.5158\n",
      "Train Loss: 0.0435\n"
     ]
    },
    {
     "name": "stderr",
     "output_type": "stream",
     "text": [
      "\n",
      "Validation: 100%|████████████████████████████████████████████████████████████████████████████████████████████████████████████████████████████████████████████████████████████████████████████████████████████████████████████████████████████████| 2/2 [00:00<00:00,  4.80it/s]\n"
     ]
    },
    {
     "name": "stdout",
     "output_type": "stream",
     "text": [
      "[DEBUG] CE: 0.5139, KL_mirna: 6.5806, KL_rna: 15.7508\n",
      "[DEBUG] CE: 0.1083, KL_mirna: 5.1432, KL_rna: 12.5479\n",
      "Val Loss:   0.3220\n",
      "\n",
      "Epoch 9/20\n"
     ]
    },
    {
     "name": "stderr",
     "output_type": "stream",
     "text": [
      "Training: 100%|█████████████████████████████████████████████████████████████████████████████████████████████████████████████████████████████████████████████████████████████████████████████████████████████████████████████████████| 5/5 [00:00<00:00, 13.20it/s, loss=0.0457]"
     ]
    },
    {
     "name": "stdout",
     "output_type": "stream",
     "text": [
      "[DEBUG] CE: 0.0268, KL_mirna: 11.7161, KL_rna: 24.2653\n",
      "[DEBUG] CE: 0.0272, KL_mirna: 11.5227, KL_rna: 24.6175\n",
      "[DEBUG] CE: 0.0167, KL_mirna: 11.1409, KL_rna: 22.8269\n",
      "[DEBUG] CE: 0.0305, KL_mirna: 11.6972, KL_rna: 24.2728\n",
      "[DEBUG] CE: 0.0255, KL_mirna: 11.8036, KL_rna: 21.8259\n"
     ]
    },
    {
     "name": "stderr",
     "output_type": "stream",
     "text": [
      "Training: 100%|█████████████████████████████████████████████████████████████████████████████████████████████████████████████████████████████████████████████████████████████████████████████████████████████████████████████████████| 5/5 [00:00<00:00,  9.33it/s, loss=0.0457]\n"
     ]
    },
    {
     "name": "stdout",
     "output_type": "stream",
     "text": [
      "Train Loss: 0.0457\n"
     ]
    },
    {
     "name": "stderr",
     "output_type": "stream",
     "text": [
      "Validation: 100%|████████████████████████████████████████████████████████████████████████████████████████████████████████████████████████████████████████████████████████████████████████████████████████████████████████████████████████████████| 2/2 [00:00<00:00,  4.98it/s]\n"
     ]
    },
    {
     "name": "stdout",
     "output_type": "stream",
     "text": [
      "[DEBUG] CE: 0.7101, KL_mirna: 6.5448, KL_rna: 15.7175\n",
      "[DEBUG] CE: 2.1920, KL_mirna: 5.0905, KL_rna: 13.6380\n",
      "Val Loss:   1.4637\n",
      "\n",
      "Epoch 10/20\n"
     ]
    },
    {
     "name": "stderr",
     "output_type": "stream",
     "text": [
      "Training: 100%|███████████████████████████████████████████████████████████████████████████████████████████████████████████████████████████████████████████████████████████████████████████████████████████████████████████████████████| 5/5 [00:00<00:00, 10.58it/s, loss=0.05]\n"
     ]
    },
    {
     "name": "stdout",
     "output_type": "stream",
     "text": [
      "[DEBUG] CE: 0.0224, KL_mirna: 11.2557, KL_rna: 22.0309\n",
      "[DEBUG] CE: 0.0228, KL_mirna: 11.8356, KL_rna: 26.2133\n",
      "[DEBUG] CE: 0.0249, KL_mirna: 11.7595, KL_rna: 24.7451\n",
      "[DEBUG] CE: 0.0198, KL_mirna: 11.5340, KL_rna: 22.1421\n",
      "[DEBUG] CE: 0.0251, KL_mirna: 12.2826, KL_rna: 24.9185\n",
      "Train Loss: 0.0463\n"
     ]
    },
    {
     "name": "stderr",
     "output_type": "stream",
     "text": [
      "Validation: 100%|████████████████████████████████████████████████████████████████████████████████████████████████████████████████████████████████████████████████████████████████████████████████████████████████████████████████████████████████| 2/2 [00:00<00:00,  5.43it/s]\n"
     ]
    },
    {
     "name": "stdout",
     "output_type": "stream",
     "text": [
      "[DEBUG] CE: 0.5761, KL_mirna: 6.5020, KL_rna: 15.6264\n",
      "[DEBUG] CE: 0.3509, KL_mirna: 5.0140, KL_rna: 13.6579\n",
      "Val Loss:   0.4774\n",
      "\n",
      "Epoch 11/20\n"
     ]
    },
    {
     "name": "stderr",
     "output_type": "stream",
     "text": [
      "Training: 100%|█████████████████████████████████████████████████████████████████████████████████████████████████████████████████████████████████████████████████████████████████████████████████████████████████████████████████████| 5/5 [00:00<00:00,  9.19it/s, loss=0.0487]\n"
     ]
    },
    {
     "name": "stdout",
     "output_type": "stream",
     "text": [
      "[DEBUG] CE: 0.0267, KL_mirna: 12.1388, KL_rna: 23.3115\n",
      "[DEBUG] CE: 0.0205, KL_mirna: 11.8117, KL_rna: 23.6742\n",
      "[DEBUG] CE: 0.0204, KL_mirna: 12.0105, KL_rna: 23.9650\n",
      "[DEBUG] CE: 0.0223, KL_mirna: 11.6047, KL_rna: 23.6088\n",
      "[DEBUG] CE: 0.0244, KL_mirna: 10.7270, KL_rna: 22.0984\n",
      "Train Loss: 0.0480\n"
     ]
    },
    {
     "name": "stderr",
     "output_type": "stream",
     "text": [
      "Validation: 100%|████████████████████████████████████████████████████████████████████████████████████████████████████████████████████████████████████████████████████████████████████████████████████████████████████████████████████████████████| 2/2 [00:00<00:00,  5.38it/s]\n"
     ]
    },
    {
     "name": "stdout",
     "output_type": "stream",
     "text": [
      "[DEBUG] CE: 0.5740, KL_mirna: 6.4902, KL_rna: 16.0713\n",
      "[DEBUG] CE: 0.7221, KL_mirna: 4.8835, KL_rna: 13.8036\n",
      "Val Loss:   0.6636\n",
      "\n",
      "Epoch 12/20\n"
     ]
    },
    {
     "name": "stderr",
     "output_type": "stream",
     "text": [
      "Training: 100%|█████████████████████████████████████████████████████████████████████████████████████████████████████████████████████████████████████████████████████████████████████████████████████████████████████████████████████| 5/5 [00:00<00:00, 14.47it/s, loss=0.0504]"
     ]
    },
    {
     "name": "stdout",
     "output_type": "stream",
     "text": [
      "[DEBUG] CE: 0.0213, KL_mirna: 11.7943, KL_rna: 23.2142\n",
      "[DEBUG] CE: 0.0214, KL_mirna: 11.5630, KL_rna: 23.3738\n",
      "[DEBUG] CE: 0.0202, KL_mirna: 11.3084, KL_rna: 22.1520\n",
      "[DEBUG] CE: 0.0230, KL_mirna: 11.8910, KL_rna: 23.4172\n",
      "[DEBUG] CE: 0.0201, KL_mirna: 11.6353, KL_rna: 25.8528\n"
     ]
    },
    {
     "name": "stderr",
     "output_type": "stream",
     "text": [
      "Training: 100%|█████████████████████████████████████████████████████████████████████████████████████████████████████████████████████████████████████████████████████████████████████████████████████████████████████████████████████| 5/5 [00:00<00:00, 10.03it/s, loss=0.0504]\n"
     ]
    },
    {
     "name": "stdout",
     "output_type": "stream",
     "text": [
      "Train Loss: 0.0491\n"
     ]
    },
    {
     "name": "stderr",
     "output_type": "stream",
     "text": [
      "Validation: 100%|████████████████████████████████████████████████████████████████████████████████████████████████████████████████████████████████████████████████████████████████████████████████████████████████████████████████████████████████| 2/2 [00:00<00:00,  5.09it/s]\n"
     ]
    },
    {
     "name": "stdout",
     "output_type": "stream",
     "text": [
      "[DEBUG] CE: 0.5037, KL_mirna: 6.4460, KL_rna: 15.8074\n",
      "[DEBUG] CE: 1.8426, KL_mirna: 4.7914, KL_rna: 13.7179\n",
      "Val Loss:   1.1900\n",
      "\n",
      "Epoch 13/20\n"
     ]
    },
    {
     "name": "stderr",
     "output_type": "stream",
     "text": [
      "Training: 100%|█████████████████████████████████████████████████████████████████████████████████████████████████████████████████████████████████████████████████████████████████████████████████████████████████████████████████████| 5/5 [00:00<00:00, 10.17it/s, loss=0.0493]\n"
     ]
    },
    {
     "name": "stdout",
     "output_type": "stream",
     "text": [
      "[DEBUG] CE: 0.0277, KL_mirna: 11.6934, KL_rna: 23.0383\n",
      "[DEBUG] CE: 0.0199, KL_mirna: 10.5618, KL_rna: 22.5558\n",
      "[DEBUG] CE: 0.0202, KL_mirna: 11.0439, KL_rna: 20.2204\n",
      "[DEBUG] CE: 0.0263, KL_mirna: 12.7588, KL_rna: 23.2768\n",
      "[DEBUG] CE: 0.0185, KL_mirna: 11.2398, KL_rna: 23.7994\n",
      "Train Loss: 0.0518\n"
     ]
    },
    {
     "name": "stderr",
     "output_type": "stream",
     "text": [
      "Validation: 100%|████████████████████████████████████████████████████████████████████████████████████████████████████████████████████████████████████████████████████████████████████████████████████████████████████████████████████████████████| 2/2 [00:00<00:00,  5.25it/s]\n"
     ]
    },
    {
     "name": "stdout",
     "output_type": "stream",
     "text": [
      "[DEBUG] CE: 0.4280, KL_mirna: 6.3945, KL_rna: 15.3313\n",
      "[DEBUG] CE: 0.9935, KL_mirna: 4.7373, KL_rna: 13.0441\n",
      "Val Loss:   0.7285\n",
      "\n",
      "Epoch 14/20\n"
     ]
    },
    {
     "name": "stderr",
     "output_type": "stream",
     "text": [
      "Training: 100%|█████████████████████████████████████████████████████████████████████████████████████████████████████████████████████████████████████████████████████████████████████████████████████████████████████████████████████| 5/5 [00:00<00:00, 12.43it/s, loss=0.0504]"
     ]
    },
    {
     "name": "stdout",
     "output_type": "stream",
     "text": [
      "[DEBUG] CE: 0.0274, KL_mirna: 11.3767, KL_rna: 21.9631\n",
      "[DEBUG] CE: 0.0384, KL_mirna: 11.0588, KL_rna: 20.5234\n",
      "[DEBUG] CE: 0.0206, KL_mirna: 10.9233, KL_rna: 21.9165\n",
      "[DEBUG] CE: 0.0180, KL_mirna: 12.1131, KL_rna: 22.6089\n",
      "[DEBUG] CE: 0.0207, KL_mirna: 10.8237, KL_rna: 20.4503\n"
     ]
    },
    {
     "name": "stderr",
     "output_type": "stream",
     "text": [
      "Training: 100%|█████████████████████████████████████████████████████████████████████████████████████████████████████████████████████████████████████████████████████████████████████████████████████████████████████████████████████| 5/5 [00:00<00:00,  8.91it/s, loss=0.0504]\n"
     ]
    },
    {
     "name": "stdout",
     "output_type": "stream",
     "text": [
      "Train Loss: 0.0555\n"
     ]
    },
    {
     "name": "stderr",
     "output_type": "stream",
     "text": [
      "Validation: 100%|████████████████████████████████████████████████████████████████████████████████████████████████████████████████████████████████████████████████████████████████████████████████████████████████████████████████████████████████| 2/2 [00:00<00:00,  4.84it/s]\n"
     ]
    },
    {
     "name": "stdout",
     "output_type": "stream",
     "text": [
      "[DEBUG] CE: 0.5236, KL_mirna: 6.3605, KL_rna: 15.0632\n",
      "[DEBUG] CE: 0.0178, KL_mirna: 4.6288, KL_rna: 8.8483\n",
      "Val Loss:   0.2875\n",
      "\n",
      "Epoch 15/20\n"
     ]
    },
    {
     "name": "stderr",
     "output_type": "stream",
     "text": [
      "Training: 100%|█████████████████████████████████████████████████████████████████████████████████████████████████████████████████████████████████████████████████████████████████████████████████████████████████████████████████████| 5/5 [00:00<00:00, 10.00it/s, loss=0.0511]\n"
     ]
    },
    {
     "name": "stdout",
     "output_type": "stream",
     "text": [
      "[DEBUG] CE: 0.0310, KL_mirna: 10.2967, KL_rna: 20.5909\n",
      "[DEBUG] CE: 0.0272, KL_mirna: 11.5864, KL_rna: 20.1890\n",
      "[DEBUG] CE: 0.0226, KL_mirna: 11.9459, KL_rna: 22.7195\n",
      "[DEBUG] CE: 0.0201, KL_mirna: 10.5539, KL_rna: 20.8986\n",
      "[DEBUG] CE: 0.0188, KL_mirna: 11.3507, KL_rna: 20.3714\n",
      "Train Loss: 0.0560\n"
     ]
    },
    {
     "name": "stderr",
     "output_type": "stream",
     "text": [
      "Validation: 100%|████████████████████████████████████████████████████████████████████████████████████████████████████████████████████████████████████████████████████████████████████████████████████████████████████████████████████████████████| 2/2 [00:00<00:00,  4.34it/s]\n"
     ]
    },
    {
     "name": "stdout",
     "output_type": "stream",
     "text": [
      "[DEBUG] CE: 0.6317, KL_mirna: 6.2626, KL_rna: 14.7423\n",
      "[DEBUG] CE: 0.0087, KL_mirna: 4.5891, KL_rna: 9.6726\n",
      "Val Loss:   0.3384\n",
      "\n",
      "Epoch 16/20\n"
     ]
    },
    {
     "name": "stderr",
     "output_type": "stream",
     "text": [
      "Training: 100%|█████████████████████████████████████████████████████████████████████████████████████████████████████████████████████████████████████████████████████████████████████████████████████████████████████████████████████| 5/5 [00:00<00:00,  9.95it/s, loss=0.0659]\n"
     ]
    },
    {
     "name": "stdout",
     "output_type": "stream",
     "text": [
      "[DEBUG] CE: 0.0227, KL_mirna: 10.2059, KL_rna: 20.6504\n",
      "[DEBUG] CE: 0.0188, KL_mirna: 11.8920, KL_rna: 18.5038\n",
      "[DEBUG] CE: 0.0222, KL_mirna: 10.5541, KL_rna: 20.1614\n",
      "[DEBUG] CE: 0.0184, KL_mirna: 11.2946, KL_rna: 20.6673\n",
      "[DEBUG] CE: 0.0295, KL_mirna: 11.2076, KL_rna: 22.1587\n",
      "Train Loss: 0.0560\n"
     ]
    },
    {
     "name": "stderr",
     "output_type": "stream",
     "text": [
      "Validation: 100%|████████████████████████████████████████████████████████████████████████████████████████████████████████████████████████████████████████████████████████████████████████████████████████████████████████████████████████████████| 2/2 [00:00<00:00,  4.94it/s]\n"
     ]
    },
    {
     "name": "stdout",
     "output_type": "stream",
     "text": [
      "[DEBUG] CE: 0.4561, KL_mirna: 6.1685, KL_rna: 14.2167\n",
      "[DEBUG] CE: 0.2289, KL_mirna: 4.4978, KL_rna: 10.4542\n",
      "Val Loss:   0.3620\n",
      "\n",
      "Epoch 17/20\n"
     ]
    },
    {
     "name": "stderr",
     "output_type": "stream",
     "text": [
      "Training: 100%|██████████████████████████████████████████████████████████████████████████████████████████████████████████████████████████████████████████████████████████████████████████████████████████████████████████████████████| 5/5 [00:00<00:00, 12.85it/s, loss=0.061]"
     ]
    },
    {
     "name": "stdout",
     "output_type": "stream",
     "text": [
      "[DEBUG] CE: 0.0224, KL_mirna: 10.5991, KL_rna: 19.2271\n",
      "[DEBUG] CE: 0.0166, KL_mirna: 10.4221, KL_rna: 19.4146\n",
      "[DEBUG] CE: 0.0265, KL_mirna: 11.3822, KL_rna: 20.0710\n",
      "[DEBUG] CE: 0.0287, KL_mirna: 11.1882, KL_rna: 21.4158\n",
      "[DEBUG] CE: 0.0247, KL_mirna: 10.8523, KL_rna: 20.4047\n"
     ]
    },
    {
     "name": "stderr",
     "output_type": "stream",
     "text": [
      "Training: 100%|██████████████████████████████████████████████████████████████████████████████████████████████████████████████████████████████████████████████████████████████████████████████████████████████████████████████████████| 5/5 [00:00<00:00,  9.16it/s, loss=0.061]\n"
     ]
    },
    {
     "name": "stdout",
     "output_type": "stream",
     "text": [
      "Train Loss: 0.0591\n"
     ]
    },
    {
     "name": "stderr",
     "output_type": "stream",
     "text": [
      "Validation: 100%|████████████████████████████████████████████████████████████████████████████████████████████████████████████████████████████████████████████████████████████████████████████████████████████████████████████████████████████████| 2/2 [00:00<00:00,  5.06it/s]\n"
     ]
    },
    {
     "name": "stdout",
     "output_type": "stream",
     "text": [
      "[DEBUG] CE: 0.5499, KL_mirna: 6.0756, KL_rna: 13.5117\n",
      "[DEBUG] CE: 0.0381, KL_mirna: 4.4320, KL_rna: 11.2242\n",
      "Val Loss:   0.3147\n",
      "\n",
      "Epoch 18/20\n"
     ]
    },
    {
     "name": "stderr",
     "output_type": "stream",
     "text": [
      "Training: 100%|█████████████████████████████████████████████████████████████████████████████████████████████████████████████████████████████████████████████████████████████████████████████████████████████████████████████████████| 5/5 [00:00<00:00,  9.45it/s, loss=0.0674]"
     ]
    },
    {
     "name": "stdout",
     "output_type": "stream",
     "text": [
      "[DEBUG] CE: 0.0188, KL_mirna: 11.1836, KL_rna: 21.8569\n",
      "[DEBUG] CE: 0.0309, KL_mirna: 10.7881, KL_rna: 20.0292\n",
      "[DEBUG] CE: 0.0188, KL_mirna: 11.1532, KL_rna: 18.3491\n",
      "[DEBUG] CE: 0.0245, KL_mirna: 11.1548, KL_rna: 18.8325\n",
      "[DEBUG] CE: 0.0283, KL_mirna: 10.8345, KL_rna: 20.9299\n"
     ]
    },
    {
     "name": "stderr",
     "output_type": "stream",
     "text": [
      "\n"
     ]
    },
    {
     "name": "stdout",
     "output_type": "stream",
     "text": [
      "Train Loss: 0.0618\n"
     ]
    },
    {
     "name": "stderr",
     "output_type": "stream",
     "text": [
      "Validation: 100%|████████████████████████████████████████████████████████████████████████████████████████████████████████████████████████████████████████████████████████████████████████████████████████████████████████████████████████████████| 2/2 [00:00<00:00,  5.08it/s]\n"
     ]
    },
    {
     "name": "stdout",
     "output_type": "stream",
     "text": [
      "[DEBUG] CE: 0.6085, KL_mirna: 5.9733, KL_rna: 12.7832\n",
      "[DEBUG] CE: 0.0283, KL_mirna: 4.4088, KL_rna: 13.7113\n",
      "Val Loss:   0.3414\n",
      "\n",
      "Epoch 19/20\n"
     ]
    },
    {
     "name": "stderr",
     "output_type": "stream",
     "text": [
      "Training: 100%|█████████████████████████████████████████████████████████████████████████████████████████████████████████████████████████████████████████████████████████████████████████████████████████████████████████████████████| 5/5 [00:00<00:00, 13.90it/s, loss=0.0528]"
     ]
    },
    {
     "name": "stdout",
     "output_type": "stream",
     "text": [
      "[DEBUG] CE: 0.0163, KL_mirna: 11.0595, KL_rna: 18.2399\n",
      "[DEBUG] CE: 0.0227, KL_mirna: 10.1272, KL_rna: 20.0563\n",
      "[DEBUG] CE: 0.0277, KL_mirna: 11.5354, KL_rna: 19.8193\n",
      "[DEBUG] CE: 0.0605, KL_mirna: 10.6824, KL_rna: 19.4055\n",
      "[DEBUG] CE: 0.0165, KL_mirna: 10.9697, KL_rna: 16.9696\n"
     ]
    },
    {
     "name": "stderr",
     "output_type": "stream",
     "text": [
      "Training: 100%|█████████████████████████████████████████████████████████████████████████████████████████████████████████████████████████████████████████████████████████████████████████████████████████████████████████████████████| 5/5 [00:00<00:00,  9.93it/s, loss=0.0528]\n"
     ]
    },
    {
     "name": "stdout",
     "output_type": "stream",
     "text": [
      "Train Loss: 0.0669\n"
     ]
    },
    {
     "name": "stderr",
     "output_type": "stream",
     "text": [
      "Validation: 100%|████████████████████████████████████████████████████████████████████████████████████████████████████████████████████████████████████████████████████████████████████████████████████████████████████████████████████████████████| 2/2 [00:00<00:00,  5.10it/s]\n"
     ]
    },
    {
     "name": "stdout",
     "output_type": "stream",
     "text": [
      "[DEBUG] CE: 0.7433, KL_mirna: 5.8774, KL_rna: 12.5761\n",
      "[DEBUG] CE: 0.8620, KL_mirna: 4.3379, KL_rna: 15.0551\n",
      "Val Loss:   0.8275\n",
      "\n",
      "Epoch 20/20\n"
     ]
    },
    {
     "name": "stderr",
     "output_type": "stream",
     "text": [
      "Training: 100%|█████████████████████████████████████████████████████████████████████████████████████████████████████████████████████████████████████████████████████████████████████████████████████████████████████████████████████| 5/5 [00:00<00:00, 10.10it/s, loss=0.0729]\n"
     ]
    },
    {
     "name": "stdout",
     "output_type": "stream",
     "text": [
      "[DEBUG] CE: 0.0231, KL_mirna: 11.2375, KL_rna: 18.7006\n",
      "[DEBUG] CE: 0.0231, KL_mirna: 10.2531, KL_rna: 19.3038\n",
      "[DEBUG] CE: 0.0272, KL_mirna: 10.4292, KL_rna: 18.4801\n",
      "[DEBUG] CE: 0.0204, KL_mirna: 10.3263, KL_rna: 18.6598\n",
      "[DEBUG] CE: 0.0340, KL_mirna: 11.1221, KL_rna: 17.2793\n",
      "Train Loss: 0.0649\n"
     ]
    },
    {
     "name": "stderr",
     "output_type": "stream",
     "text": [
      "Validation: 100%|████████████████████████████████████████████████████████████████████████████████████████████████████████████████████████████████████████████████████████████████████████████████████████████████████████████████████████████████| 2/2 [00:00<00:00,  4.81it/s]"
     ]
    },
    {
     "name": "stdout",
     "output_type": "stream",
     "text": [
      "[DEBUG] CE: 0.6081, KL_mirna: 5.8226, KL_rna: 12.4856\n",
      "[DEBUG] CE: 0.4399, KL_mirna: 4.2448, KL_rna: 14.9770\n",
      "Val Loss:   0.5500\n"
     ]
    },
    {
     "name": "stderr",
     "output_type": "stream",
     "text": [
      "\n"
     ]
    }
   ],
   "source": [
    "trainer = BaseTrainer(\n",
    "    model=multiomics_model,\n",
    "    optimizer=torch.optim.Adam(multiomics_model.parameters(), lr=2e-5),\n",
    "    loss_fn=MultiOmicsLoss(),\n",
    "    device='cuda'\n",
    ")\n",
    "\n",
    "trainer.fit(train_loader=dataloaders['train'], val_loader=dataloaders['val'], epochs=20)\n"
   ]
  },
  {
   "cell_type": "code",
   "execution_count": 15,
   "id": "38f1456b-2599-4cb4-a834-3ce22f637bc4",
   "metadata": {},
   "outputs": [
    {
     "name": "stdout",
     "output_type": "stream",
     "text": [
      "✅ Test Accuracy: 0.8182\n"
     ]
    }
   ],
   "source": [
    "preds, targets = trainer.predict(dataloaders[\"test\"])\n",
    "\n",
    "# Compute accuracy\n",
    "from sklearn.metrics import accuracy_score\n",
    "\n",
    "acc = accuracy_score(targets.numpy(), preds.numpy())\n",
    "print(f\"✅ Test Accuracy: {acc:.4f}\")\n"
   ]
  },
  {
   "cell_type": "code",
   "execution_count": 16,
   "id": "f48aa3b3-8746-4120-b03d-749c3152d9ac",
   "metadata": {},
   "outputs": [
    {
     "name": "stdout",
     "output_type": "stream",
     "text": [
      "              precision    recall  f1-score   support\n",
      "\n",
      "           0       0.83      0.86      0.85        29\n",
      "           1       0.79      0.73      0.76        15\n",
      "           2       0.90      1.00      0.95         9\n",
      "           3       0.73      0.89      0.80         9\n",
      "           4       1.00      0.25      0.40         4\n",
      "\n",
      "    accuracy                           0.82        66\n",
      "   macro avg       0.85      0.75      0.75        66\n",
      "weighted avg       0.83      0.82      0.81        66\n",
      "\n"
     ]
    }
   ],
   "source": [
    "from sklearn.metrics import classification_report\n",
    "print(classification_report(targets.numpy(), preds.numpy()))\n"
   ]
  },
  {
   "cell_type": "code",
   "execution_count": null,
   "id": "7bd37d68-3707-4b09-a86b-a5923cbc4436",
   "metadata": {},
   "outputs": [],
   "source": []
  },
  {
   "cell_type": "code",
   "execution_count": null,
   "id": "a3df6279-182a-4808-b5b4-688d09fafb9c",
   "metadata": {},
   "outputs": [],
   "source": []
  }
 ],
 "metadata": {
  "kernelspec": {
   "display_name": "cs7643_a4_generative",
   "language": "python",
   "name": "cs7643_a4_generative"
  },
  "language_info": {
   "codemirror_mode": {
    "name": "ipython",
    "version": 3
   },
   "file_extension": ".py",
   "mimetype": "text/x-python",
   "name": "python",
   "nbconvert_exporter": "python",
   "pygments_lexer": "ipython3",
   "version": "3.11.11"
  }
 },
 "nbformat": 4,
 "nbformat_minor": 5
}
