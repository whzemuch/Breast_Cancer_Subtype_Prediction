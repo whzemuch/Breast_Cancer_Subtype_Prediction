{
 "cells": [
  {
   "cell_type": "code",
   "execution_count": 1,
   "id": "9f0ff37b-f77e-4c1f-8184-98a7496ef2e9",
   "metadata": {},
   "outputs": [
    {
     "name": "stdout",
     "output_type": "stream",
     "text": [
      "0.21.0+cu124\n"
     ]
    }
   ],
   "source": [
    "import torchvision\n",
    "print(torchvision.__version__)"
   ]
  },
  {
   "cell_type": "code",
   "execution_count": 2,
   "id": "20b574f0-38db-461f-8978-5c8fd19a9017",
   "metadata": {},
   "outputs": [],
   "source": [
    "from utils import Config\n",
    "from data_loader import MultiOmicsDataset, create_dataloaders"
   ]
  },
  {
   "cell_type": "code",
   "execution_count": 3,
   "id": "404cc138-0bad-4353-9ca3-4bb0ff89e007",
   "metadata": {},
   "outputs": [],
   "source": [
    "# # Reload all modules every time before executing code\n",
    "%load_ext autoreload\n",
    "%autoreload 2  "
   ]
  },
  {
   "cell_type": "markdown",
   "id": "32f6a115-4f1a-4420-afd7-44cd6b2f145c",
   "metadata": {},
   "source": [
    "### 7. Run pytest"
   ]
  },
  {
   "cell_type": "code",
   "execution_count": 4,
   "id": "d16e7035-fbd1-40ad-bb0e-d06d4c9b7bef",
   "metadata": {},
   "outputs": [
    {
     "name": "stdout",
     "output_type": "stream",
     "text": [
      "\u001b[1m============================= test session starts ==============================\u001b[0m\n",
      "platform linux -- Python 3.11.11, pytest-8.3.5, pluggy-1.5.0 -- /home/CBBI/wangh5/miniforge3/envs/cs7643_a4_generative/bin/python3.11\n",
      "cachedir: .pytest_cache\n",
      "rootdir: /home/CBBI/wangh5/_PyCharm/proj_dl\n",
      "configfile: pytest.ini\n",
      "plugins: anyio-4.9.0\n",
      "\u001b[1mcollecting ... \u001b[0mcollected 5 items\n",
      "\n",
      "tests/test_02_model_components.py::test_vae_forward \u001b[32mPASSED\u001b[0m\u001b[32m               [ 20%]\u001b[0m\n",
      "tests/test_02_model_components.py::test_mirna_vae_forward \u001b[32mPASSED\u001b[0m\u001b[32m         [ 40%]\u001b[0m\n",
      "tests/test_02_model_components.py::test_mini_convnext \u001b[32mPASSED\u001b[0m\u001b[32m             [ 60%]\u001b[0m\n",
      "tests/test_02_model_components.py::test_transformer_fusion \u001b[32mPASSED\u001b[0m\u001b[32m        [ 80%]\u001b[0m\n",
      "tests/test_02_model_components.py::test_fusion_classifier \u001b[32mPASSED\u001b[0m\u001b[32m         [100%]\u001b[0m\n",
      "\n",
      "\u001b[32m============================== \u001b[32m\u001b[1m5 passed\u001b[0m\u001b[32m in 0.28s\u001b[0m\u001b[32m ===============================\u001b[0m\n"
     ]
    }
   ],
   "source": [
    "%%bash\n",
    "pytest -v\n"
   ]
  },
  {
   "cell_type": "code",
   "execution_count": 5,
   "id": "5553defd-dcfa-4e5c-9728-65363ac6b417",
   "metadata": {},
   "outputs": [],
   "source": [
    "import torch\n",
    "from utils import Config\n",
    "from data_loader import MultiOmicsDataset, create_dataloaders\n",
    "from models import MultiOmicsClassifier "
   ]
  },
  {
   "cell_type": "code",
   "execution_count": 14,
   "id": "59cb9621-2d74-45fa-8cfd-a0670cf412f3",
   "metadata": {},
   "outputs": [],
   "source": [
    "import json\n",
    "from pathlib import Path"
   ]
  },
  {
   "cell_type": "code",
   "execution_count": 6,
   "id": "2030e458-0835-448d-a21f-014fe0636b9a",
   "metadata": {},
   "outputs": [],
   "source": [
    "from trainers import BaseTrainer\n",
    "from losses import MultiOmicsLoss"
   ]
  },
  {
   "cell_type": "code",
   "execution_count": 16,
   "id": "29751203-8d38-4875-9734-71c05178671c",
   "metadata": {},
   "outputs": [],
   "source": [
    "def get_training_parameters(trainer, include_model_info=False, include_optimizer_state=False):\n",
    "    \"\"\"Extracts all relevant training parameters in a structured dictionary.\n",
    "    \n",
    "    Args:\n",
    "        trainer: BaseTrainer instance\n",
    "        include_model_info: Whether to include model architecture details\n",
    "        include_optimizer_state: Whether to include optimizer state details\n",
    "        \n",
    "    Returns:\n",
    "        Dictionary containing all training parameters\n",
    "    \"\"\"\n",
    "    params = {\n",
    "        \"training\": {\n",
    "            \"device\": str(trainer.device),\n",
    "        },\n",
    "        \"loss\": {\n",
    "            \"type\": type(trainer.loss_fn).__name__,\n",
    "            \"beta\": getattr(trainer.loss_fn, 'target_beta', None),\n",
    "            \"use_focal\": getattr(trainer.loss_fn, 'use_focal', None),\n",
    "            \"focal_gamma\": getattr(trainer.loss_fn, 'focal_gamma', None),\n",
    "            \"label_smoothing\": getattr(trainer.loss_fn, 'label_smoothing', None),\n",
    "            \"kl_epsilon\": getattr(trainer.loss_fn, 'kl_epsilon', None)\n",
    "        },\n",
    "        \"optimizer\": {\n",
    "            \"type\": type(trainer.optimizer).__name__,\n",
    "            \"lr\": trainer.optimizer.param_groups[0]['lr'],\n",
    "            \"betas\": trainer.optimizer.param_groups[0].get('betas', None),\n",
    "            \"eps\": trainer.optimizer.param_groups[0].get('eps', None),\n",
    "            \"weight_decay\": trainer.optimizer.param_groups[0].get('weight_decay', None)\n",
    "        }\n",
    "    }\n",
    "    \n",
    "    if include_model_info:\n",
    "        params[\"model\"] = {\n",
    "            \"type\": type(trainer.model).__name__,\n",
    "            \"total_parameters\": sum(p.numel() for p in trainer.model.parameters()),\n",
    "            \"trainable_parameters\": sum(p.numel() for p in trainer.model.parameters() \n",
    "                                      if p.requires_grad),\n",
    "            \"architecture\": str(trainer.model)  # This shows the model structure\n",
    "        }\n",
    "    \n",
    "    if include_optimizer_state:\n",
    "        params[\"optimizer\"][\"state\"] = {\n",
    "            \"momentum_buffer\": any('momentum_buffer' in p for p in trainer.optimizer.state.values())\n",
    "        }\n",
    "\n",
    "    \n",
    "    return params\n",
    "\n",
    "\n",
    "\n",
    "# params = get_training_parameters(trainer)\n",
    "# print(json.dumps(params, indent=4))\n"
   ]
  },
  {
   "cell_type": "code",
   "execution_count": 7,
   "id": "cdae0a55-4913-441f-b0d8-1895dd5ab2a2",
   "metadata": {},
   "outputs": [],
   "source": [
    "config = Config.from_yaml(\"configs/data_config.yaml\")\n",
    "\n",
    "dataset = MultiOmicsDataset(config)\n",
    "dataloaders = create_dataloaders(dataset, config)\n",
    "\n"
   ]
  },
  {
   "cell_type": "code",
   "execution_count": 8,
   "id": "d8796442-64ae-4c7d-a6eb-5dadf95c3aa1",
   "metadata": {},
   "outputs": [],
   "source": [
    "batch_size = 4\n",
    "mirna_dim = 1046\n",
    "rna_exp_dim = 13054\n",
    "methy_shape = (50, 100)  # e.g., (50, 100)\n",
    "latent_dim = 64\n",
    "num_classes = 5\n",
    "\n",
    "# Instantiate model\n",
    "multiomics_model = MultiOmicsClassifier(\n",
    "    mirna_dim=mirna_dim,\n",
    "    rna_exp_dim=rna_exp_dim,\n",
    "    methy_shape=methy_shape,\n",
    "    latent_dim=latent_dim,\n",
    "    num_classes=num_classes\n",
    ")"
   ]
  },
  {
   "cell_type": "code",
   "execution_count": 22,
   "id": "46372e71-4c91-4891-ad97-dc4dde3fc514",
   "metadata": {},
   "outputs": [
    {
     "name": "stdout",
     "output_type": "stream",
     "text": [
      "\n",
      "Epoch 1/10\n"
     ]
    },
    {
     "name": "stderr",
     "output_type": "stream",
     "text": [
      "Training: 100%|████████████████████████████████████████████████████████████████████████████████████████████████████████████████████████████████████████████████████████████████████████████████████████████████████████████████████| 5/5 [00:00<00:00, 11.82it/s, loss=0.215]\n"
     ]
    },
    {
     "name": "stdout",
     "output_type": "stream",
     "text": [
      "Train Loss: 0.2023\n"
     ]
    },
    {
     "name": "stderr",
     "output_type": "stream",
     "text": [
      "Validation: 100%|██████████████████████████████████████████████████████████████████████████████████████████████████████████████████████████████████████████████████████████████████████████████████████████████████████████████████████████████| 2/2 [00:00<00:00,  6.80it/s]\n"
     ]
    },
    {
     "name": "stdout",
     "output_type": "stream",
     "text": [
      "Val Loss:   0.8421\n",
      "\n",
      "Epoch 2/10\n"
     ]
    },
    {
     "name": "stderr",
     "output_type": "stream",
     "text": [
      "Training: 100%|████████████████████████████████████████████████████████████████████████████████████████████████████████████████████████████████████████████████████████████████████████████████████████████████████████████████████| 5/5 [00:00<00:00, 12.89it/s, loss=0.207]\n"
     ]
    },
    {
     "name": "stdout",
     "output_type": "stream",
     "text": [
      "Train Loss: 0.1873\n"
     ]
    },
    {
     "name": "stderr",
     "output_type": "stream",
     "text": [
      "Validation: 100%|██████████████████████████████████████████████████████████████████████████████████████████████████████████████████████████████████████████████████████████████████████████████████████████████████████████████████████████████| 2/2 [00:00<00:00,  6.96it/s]\n"
     ]
    },
    {
     "name": "stdout",
     "output_type": "stream",
     "text": [
      "Val Loss:   0.6427\n",
      "\n",
      "Epoch 3/10\n"
     ]
    },
    {
     "name": "stderr",
     "output_type": "stream",
     "text": [
      "Training: 100%|████████████████████████████████████████████████████████████████████████████████████████████████████████████████████████████████████████████████████████████████████████████████████████████████████████████████████| 5/5 [00:00<00:00, 11.52it/s, loss=0.199]\n"
     ]
    },
    {
     "name": "stdout",
     "output_type": "stream",
     "text": [
      "Train Loss: 0.1842\n"
     ]
    },
    {
     "name": "stderr",
     "output_type": "stream",
     "text": [
      "Validation: 100%|██████████████████████████████████████████████████████████████████████████████████████████████████████████████████████████████████████████████████████████████████████████████████████████████████████████████████████████████| 2/2 [00:00<00:00,  6.33it/s]\n"
     ]
    },
    {
     "name": "stdout",
     "output_type": "stream",
     "text": [
      "Val Loss:   0.4319\n",
      "\n",
      "Epoch 4/10\n"
     ]
    },
    {
     "name": "stderr",
     "output_type": "stream",
     "text": [
      "Training: 100%|████████████████████████████████████████████████████████████████████████████████████████████████████████████████████████████████████████████████████████████████████████████████████████████████████████████████████| 5/5 [00:00<00:00, 11.64it/s, loss=0.164]\n"
     ]
    },
    {
     "name": "stdout",
     "output_type": "stream",
     "text": [
      "Train Loss: 0.1753\n"
     ]
    },
    {
     "name": "stderr",
     "output_type": "stream",
     "text": [
      "Validation: 100%|██████████████████████████████████████████████████████████████████████████████████████████████████████████████████████████████████████████████████████████████████████████████████████████████████████████████████████████████| 2/2 [00:00<00:00,  6.84it/s]\n"
     ]
    },
    {
     "name": "stdout",
     "output_type": "stream",
     "text": [
      "Val Loss:   0.4838\n",
      "\n",
      "Epoch 5/10\n"
     ]
    },
    {
     "name": "stderr",
     "output_type": "stream",
     "text": [
      "Training: 100%|████████████████████████████████████████████████████████████████████████████████████████████████████████████████████████████████████████████████████████████████████████████████████████████████████████████████████| 5/5 [00:00<00:00, 13.05it/s, loss=0.157]\n"
     ]
    },
    {
     "name": "stdout",
     "output_type": "stream",
     "text": [
      "Train Loss: 0.1804\n"
     ]
    },
    {
     "name": "stderr",
     "output_type": "stream",
     "text": [
      "Validation: 100%|██████████████████████████████████████████████████████████████████████████████████████████████████████████████████████████████████████████████████████████████████████████████████████████████████████████████████████████████| 2/2 [00:00<00:00,  7.04it/s]\n"
     ]
    },
    {
     "name": "stdout",
     "output_type": "stream",
     "text": [
      "Val Loss:   1.4967\n",
      "\n",
      "Epoch 6/10\n"
     ]
    },
    {
     "name": "stderr",
     "output_type": "stream",
     "text": [
      "Training: 100%|█████████████████████████████████████████████████████████████████████████████████████████████████████████████████████████████████████████████████████████████████████████████████████████████████████████████████████| 5/5 [00:00<00:00, 11.48it/s, loss=0.14]\n"
     ]
    },
    {
     "name": "stdout",
     "output_type": "stream",
     "text": [
      "Train Loss: 0.1678\n"
     ]
    },
    {
     "name": "stderr",
     "output_type": "stream",
     "text": [
      "Validation: 100%|██████████████████████████████████████████████████████████████████████████████████████████████████████████████████████████████████████████████████████████████████████████████████████████████████████████████████████████████| 2/2 [00:00<00:00,  7.00it/s]\n"
     ]
    },
    {
     "name": "stdout",
     "output_type": "stream",
     "text": [
      "Val Loss:   1.1144\n",
      "\n",
      "Epoch 7/10\n"
     ]
    },
    {
     "name": "stderr",
     "output_type": "stream",
     "text": [
      "Training: 100%|████████████████████████████████████████████████████████████████████████████████████████████████████████████████████████████████████████████████████████████████████████████████████████████████████████████████████| 5/5 [00:00<00:00, 11.63it/s, loss=0.205]\n"
     ]
    },
    {
     "name": "stdout",
     "output_type": "stream",
     "text": [
      "Train Loss: 0.1708\n"
     ]
    },
    {
     "name": "stderr",
     "output_type": "stream",
     "text": [
      "Validation: 100%|██████████████████████████████████████████████████████████████████████████████████████████████████████████████████████████████████████████████████████████████████████████████████████████████████████████████████████████████| 2/2 [00:00<00:00,  6.49it/s]\n"
     ]
    },
    {
     "name": "stdout",
     "output_type": "stream",
     "text": [
      "Val Loss:   0.7493\n",
      "\n",
      "Epoch 8/10\n"
     ]
    },
    {
     "name": "stderr",
     "output_type": "stream",
     "text": [
      "Training: 100%|████████████████████████████████████████████████████████████████████████████████████████████████████████████████████████████████████████████████████████████████████████████████████████████████████████████████████| 5/5 [00:00<00:00, 11.48it/s, loss=0.203]\n"
     ]
    },
    {
     "name": "stdout",
     "output_type": "stream",
     "text": [
      "Train Loss: 0.1646\n"
     ]
    },
    {
     "name": "stderr",
     "output_type": "stream",
     "text": [
      "Validation: 100%|██████████████████████████████████████████████████████████████████████████████████████████████████████████████████████████████████████████████████████████████████████████████████████████████████████████████████████████████| 2/2 [00:00<00:00,  6.46it/s]\n"
     ]
    },
    {
     "name": "stdout",
     "output_type": "stream",
     "text": [
      "Val Loss:   0.3683\n",
      "\n",
      "Epoch 9/10\n"
     ]
    },
    {
     "name": "stderr",
     "output_type": "stream",
     "text": [
      "Training: 100%|████████████████████████████████████████████████████████████████████████████████████████████████████████████████████████████████████████████████████████████████████████████████████████████████████████████████████| 5/5 [00:00<00:00, 12.01it/s, loss=0.163]\n"
     ]
    },
    {
     "name": "stdout",
     "output_type": "stream",
     "text": [
      "Train Loss: 0.1506\n"
     ]
    },
    {
     "name": "stderr",
     "output_type": "stream",
     "text": [
      "Validation: 100%|██████████████████████████████████████████████████████████████████████████████████████████████████████████████████████████████████████████████████████████████████████████████████████████████████████████████████████████████| 2/2 [00:00<00:00,  7.15it/s]\n"
     ]
    },
    {
     "name": "stdout",
     "output_type": "stream",
     "text": [
      "Val Loss:   0.4508\n",
      "\n",
      "Epoch 10/10\n"
     ]
    },
    {
     "name": "stderr",
     "output_type": "stream",
     "text": [
      "Training: 100%|████████████████████████████████████████████████████████████████████████████████████████████████████████████████████████████████████████████████████████████████████████████████████████████████████████████████████| 5/5 [00:00<00:00, 12.23it/s, loss=0.122]\n"
     ]
    },
    {
     "name": "stdout",
     "output_type": "stream",
     "text": [
      "Train Loss: 0.1498\n"
     ]
    },
    {
     "name": "stderr",
     "output_type": "stream",
     "text": [
      "Validation: 100%|██████████████████████████████████████████████████████████████████████████████████████████████████████████████████████████████████████████████████████████████████████████████████████████████████████████████████████████████| 2/2 [00:00<00:00,  6.71it/s]"
     ]
    },
    {
     "name": "stdout",
     "output_type": "stream",
     "text": [
      "Val Loss:   0.5895\n"
     ]
    },
    {
     "name": "stderr",
     "output_type": "stream",
     "text": [
      "\n"
     ]
    }
   ],
   "source": [
    "trainer = BaseTrainer(\n",
    "    model=multiomics_model,\n",
    "    optimizer=torch.optim.Adam(multiomics_model.parameters(), lr=1e-4),\n",
    "    loss_fn=MultiOmicsLoss(),\n",
    "    device='cuda'\n",
    ")\n",
    "\n",
    "trainer.fit(train_loader=dataloaders['train'], val_loader=dataloaders['val'], epochs=10)\n"
   ]
  },
  {
   "cell_type": "code",
   "execution_count": 23,
   "id": "38f1456b-2599-4cb4-a834-3ce22f637bc4",
   "metadata": {},
   "outputs": [
    {
     "name": "stdout",
     "output_type": "stream",
     "text": [
      "✅ Test Accuracy: 0.6212\n"
     ]
    }
   ],
   "source": [
    "preds, targets = trainer.predict(dataloaders[\"test\"])\n",
    "\n",
    "# Compute accuracy\n",
    "from sklearn.metrics import accuracy_score\n",
    "\n",
    "acc = accuracy_score(targets.numpy(), preds.numpy())\n",
    "print(f\"✅ Test Accuracy: {acc:.4f}\")\n",
    "\n",
    "\n"
   ]
  },
  {
   "cell_type": "code",
   "execution_count": 24,
   "id": "f48aa3b3-8746-4120-b03d-749c3152d9ac",
   "metadata": {},
   "outputs": [
    {
     "name": "stdout",
     "output_type": "stream",
     "text": [
      "              precision    recall  f1-score   support\n",
      "\n",
      "           0       0.55      1.00      0.71        29\n",
      "           1       1.00      0.13      0.24        15\n",
      "           2       1.00      0.22      0.36         9\n",
      "           3       0.86      0.67      0.75         9\n",
      "           4       1.00      0.50      0.67         4\n",
      "\n",
      "    accuracy                           0.62        66\n",
      "   macro avg       0.88      0.50      0.54        66\n",
      "weighted avg       0.78      0.62      0.56        66\n",
      "\n",
      "{\n",
      "    \"training\": {\n",
      "        \"device\": \"cuda\"\n",
      "    },\n",
      "    \"loss\": {\n",
      "        \"type\": \"MultiOmicsLoss\",\n",
      "        \"beta\": 0.1,\n",
      "        \"use_focal\": false,\n",
      "        \"focal_gamma\": 2.0,\n",
      "        \"label_smoothing\": 0.0,\n",
      "        \"kl_epsilon\": 1e-08\n",
      "    },\n",
      "    \"optimizer\": {\n",
      "        \"type\": \"Adam\",\n",
      "        \"lr\": 0.0001,\n",
      "        \"betas\": [\n",
      "            0.9,\n",
      "            0.999\n",
      "        ],\n",
      "        \"eps\": 1e-08,\n",
      "        \"weight_decay\": 0\n",
      "    }\n",
      "}\n"
     ]
    }
   ],
   "source": [
    "from sklearn.metrics import classification_report\n",
    "print(classification_report(targets.numpy(), preds.numpy()))\n",
    "\n",
    "params = get_training_parameters(trainer)\n",
    "print(json.dumps(params, indent=4))\n"
   ]
  },
  {
   "cell_type": "code",
   "execution_count": null,
   "id": "7bd37d68-3707-4b09-a86b-a5923cbc4436",
   "metadata": {},
   "outputs": [],
   "source": []
  },
  {
   "cell_type": "code",
   "execution_count": 72,
   "id": "a3df6279-182a-4808-b5b4-688d09fafb9c",
   "metadata": {},
   "outputs": [
    {
     "name": "stdout",
     "output_type": "stream",
     "text": [
      "\n",
      "Epoch 1/10\n"
     ]
    },
    {
     "name": "stderr",
     "output_type": "stream",
     "text": [
      "Training:   0%|                                                                                                                                                                                                                                        | 0/5 [00:00<?, ?it/s]<string>:8: UserWarning: To copy construct from a tensor, it is recommended to use sourceTensor.clone().detach() or sourceTensor.clone().detach().requires_grad_(True), rather than torch.tensor(sourceTensor).\n",
      "Training: 100%|███████████████████████████████████████████████████████████████████████████████████████████████████████████████████████████████████████████████████████████████████████████████████████████████████████████████████| 5/5 [00:00<00:00, 10.48it/s, loss=0.0298]\n"
     ]
    },
    {
     "name": "stdout",
     "output_type": "stream",
     "text": [
      "Train Loss: 0.0211\n"
     ]
    },
    {
     "name": "stderr",
     "output_type": "stream",
     "text": [
      "Validation: 100%|██████████████████████████████████████████████████████████████████████████████████████████████████████████████████████████████████████████████████████████████████████████████████████████████████████████████████████████████| 2/2 [00:00<00:00,  6.58it/s]\n"
     ]
    },
    {
     "name": "stdout",
     "output_type": "stream",
     "text": [
      "Val Loss:   0.5941\n",
      "\n",
      "Epoch 2/10\n"
     ]
    },
    {
     "name": "stderr",
     "output_type": "stream",
     "text": [
      "Training: 100%|███████████████████████████████████████████████████████████████████████████████████████████████████████████████████████████████████████████████████████████████████████████████████████████████████████████████████| 5/5 [00:00<00:00, 11.37it/s, loss=0.0287]\n"
     ]
    },
    {
     "name": "stdout",
     "output_type": "stream",
     "text": [
      "Train Loss: 0.0334\n"
     ]
    },
    {
     "name": "stderr",
     "output_type": "stream",
     "text": [
      "Validation: 100%|██████████████████████████████████████████████████████████████████████████████████████████████████████████████████████████████████████████████████████████████████████████████████████████████████████████████████████████████| 2/2 [00:00<00:00,  5.70it/s]\n"
     ]
    },
    {
     "name": "stdout",
     "output_type": "stream",
     "text": [
      "Val Loss:   0.4006\n",
      "\n",
      "Epoch 3/10\n"
     ]
    },
    {
     "name": "stderr",
     "output_type": "stream",
     "text": [
      "Training: 100%|███████████████████████████████████████████████████████████████████████████████████████████████████████████████████████████████████████████████████████████████████████████████████████████████████████████████████| 5/5 [00:00<00:00, 10.72it/s, loss=0.0466]\n"
     ]
    },
    {
     "name": "stdout",
     "output_type": "stream",
     "text": [
      "Train Loss: 0.0429\n"
     ]
    },
    {
     "name": "stderr",
     "output_type": "stream",
     "text": [
      "Validation: 100%|██████████████████████████████████████████████████████████████████████████████████████████████████████████████████████████████████████████████████████████████████████████████████████████████████████████████████████████████| 2/2 [00:00<00:00,  5.70it/s]\n"
     ]
    },
    {
     "name": "stdout",
     "output_type": "stream",
     "text": [
      "Val Loss:   0.3870\n",
      "\n",
      "Epoch 4/10\n"
     ]
    },
    {
     "name": "stderr",
     "output_type": "stream",
     "text": [
      "Training: 100%|███████████████████████████████████████████████████████████████████████████████████████████████████████████████████████████████████████████████████████████████████████████████████████████████████████████████████| 5/5 [00:00<00:00, 11.33it/s, loss=0.0656]\n"
     ]
    },
    {
     "name": "stdout",
     "output_type": "stream",
     "text": [
      "Train Loss: 0.0756\n"
     ]
    },
    {
     "name": "stderr",
     "output_type": "stream",
     "text": [
      "Validation: 100%|██████████████████████████████████████████████████████████████████████████████████████████████████████████████████████████████████████████████████████████████████████████████████████████████████████████████████████████████| 2/2 [00:00<00:00,  5.83it/s]\n"
     ]
    },
    {
     "name": "stdout",
     "output_type": "stream",
     "text": [
      "Val Loss:   0.3374\n",
      "\n",
      "Epoch 5/10\n"
     ]
    },
    {
     "name": "stderr",
     "output_type": "stream",
     "text": [
      "Training: 100%|███████████████████████████████████████████████████████████████████████████████████████████████████████████████████████████████████████████████████████████████████████████████████████████████████████████████████| 5/5 [00:00<00:00, 10.73it/s, loss=0.0714]\n"
     ]
    },
    {
     "name": "stdout",
     "output_type": "stream",
     "text": [
      "Train Loss: 0.0705\n"
     ]
    },
    {
     "name": "stderr",
     "output_type": "stream",
     "text": [
      "Validation: 100%|██████████████████████████████████████████████████████████████████████████████████████████████████████████████████████████████████████████████████████████████████████████████████████████████████████████████████████████████| 2/2 [00:00<00:00,  6.70it/s]\n"
     ]
    },
    {
     "name": "stdout",
     "output_type": "stream",
     "text": [
      "Val Loss:   0.5362\n",
      "\n",
      "Epoch 6/10\n"
     ]
    },
    {
     "name": "stderr",
     "output_type": "stream",
     "text": [
      "Training: 100%|███████████████████████████████████████████████████████████████████████████████████████████████████████████████████████████████████████████████████████████████████████████████████████████████████████████████████| 5/5 [00:00<00:00, 11.42it/s, loss=0.0888]\n"
     ]
    },
    {
     "name": "stdout",
     "output_type": "stream",
     "text": [
      "Train Loss: 0.0858\n"
     ]
    },
    {
     "name": "stderr",
     "output_type": "stream",
     "text": [
      "Validation: 100%|██████████████████████████████████████████████████████████████████████████████████████████████████████████████████████████████████████████████████████████████████████████████████████████████████████████████████████████████| 2/2 [00:00<00:00,  5.88it/s]\n"
     ]
    },
    {
     "name": "stdout",
     "output_type": "stream",
     "text": [
      "Val Loss:   0.4461\n",
      "\n",
      "Epoch 7/10\n"
     ]
    },
    {
     "name": "stderr",
     "output_type": "stream",
     "text": [
      "Training: 100%|████████████████████████████████████████████████████████████████████████████████████████████████████████████████████████████████████████████████████████████████████████████████████████████████████████████████████| 5/5 [00:00<00:00, 10.46it/s, loss=0.098]\n"
     ]
    },
    {
     "name": "stdout",
     "output_type": "stream",
     "text": [
      "Train Loss: 0.0955\n"
     ]
    },
    {
     "name": "stderr",
     "output_type": "stream",
     "text": [
      "Validation: 100%|██████████████████████████████████████████████████████████████████████████████████████████████████████████████████████████████████████████████████████████████████████████████████████████████████████████████████████████████| 2/2 [00:00<00:00,  5.83it/s]\n"
     ]
    },
    {
     "name": "stdout",
     "output_type": "stream",
     "text": [
      "Val Loss:   0.4897\n",
      "\n",
      "Epoch 8/10\n"
     ]
    },
    {
     "name": "stderr",
     "output_type": "stream",
     "text": [
      "Training: 100%|████████████████████████████████████████████████████████████████████████████████████████████████████████████████████████████████████████████████████████████████████████████████████████████████████████████████████| 5/5 [00:00<00:00, 10.77it/s, loss=0.111]\n"
     ]
    },
    {
     "name": "stdout",
     "output_type": "stream",
     "text": [
      "Train Loss: 0.1041\n"
     ]
    },
    {
     "name": "stderr",
     "output_type": "stream",
     "text": [
      "Validation: 100%|██████████████████████████████████████████████████████████████████████████████████████████████████████████████████████████████████████████████████████████████████████████████████████████████████████████████████████████████| 2/2 [00:00<00:00,  6.11it/s]\n"
     ]
    },
    {
     "name": "stdout",
     "output_type": "stream",
     "text": [
      "Val Loss:   0.4603\n",
      "\n",
      "Epoch 9/10\n"
     ]
    },
    {
     "name": "stderr",
     "output_type": "stream",
     "text": [
      "Training: 100%|████████████████████████████████████████████████████████████████████████████████████████████████████████████████████████████████████████████████████████████████████████████████████████████████████████████████████| 5/5 [00:00<00:00, 10.06it/s, loss=0.127]\n"
     ]
    },
    {
     "name": "stdout",
     "output_type": "stream",
     "text": [
      "Train Loss: 0.1171\n"
     ]
    },
    {
     "name": "stderr",
     "output_type": "stream",
     "text": [
      "Validation: 100%|██████████████████████████████████████████████████████████████████████████████████████████████████████████████████████████████████████████████████████████████████████████████████████████████████████████████████████████████| 2/2 [00:00<00:00,  5.94it/s]\n"
     ]
    },
    {
     "name": "stdout",
     "output_type": "stream",
     "text": [
      "Val Loss:   0.4237\n",
      "\n",
      "Epoch 10/10\n"
     ]
    },
    {
     "name": "stderr",
     "output_type": "stream",
     "text": [
      "Training: 100%|████████████████████████████████████████████████████████████████████████████████████████████████████████████████████████████████████████████████████████████████████████████████████████████████████████████████████| 5/5 [00:00<00:00, 11.44it/s, loss=0.147]\n"
     ]
    },
    {
     "name": "stdout",
     "output_type": "stream",
     "text": [
      "Train Loss: 0.1356\n"
     ]
    },
    {
     "name": "stderr",
     "output_type": "stream",
     "text": [
      "Validation: 100%|██████████████████████████████████████████████████████████████████████████████████████████████████████████████████████████████████████████████████████████████████████████████████████████████████████████████████████████████| 2/2 [00:00<00:00,  5.91it/s]"
     ]
    },
    {
     "name": "stdout",
     "output_type": "stream",
     "text": [
      "Val Loss:   0.6193\n"
     ]
    },
    {
     "name": "stderr",
     "output_type": "stream",
     "text": [
      "\n"
     ]
    }
   ],
   "source": [
    "trainer = BaseTrainer(\n",
    "    model=multiomics_model,\n",
    "    optimizer=torch.optim.Adam(multiomics_model.parameters(), lr=2e-5),\n",
    "    loss_fn=MultiOmicsLoss(\n",
    "                use_focal=False,\n",
    "                # focal_gamma=2,        # Reduced from 0.5 for gentler hard example focus\n",
    "                beta=1,               # Lower KL divergence weight\n",
    "                # label_smoothing=0.1,    # Added smoothing\n",
    "                class_weights=None  # torch.tensor([1.0, 1.5, 1.0, 1.0, 2.0], device=\"cuda\")  # Targeted rebalancing\n",
    "),\n",
    "    device='cuda'\n",
    ")\n",
    "\n",
    "trainer.fit(train_loader=dataloaders['train'], val_loader=dataloaders['val'], epochs=10)"
   ]
  },
  {
   "cell_type": "code",
   "execution_count": 73,
   "id": "6cd779a5-233b-4c07-9392-eb673d6f7e5a",
   "metadata": {},
   "outputs": [
    {
     "name": "stdout",
     "output_type": "stream",
     "text": [
      "✅ Test Accuracy: 0.8333\n",
      "              precision    recall  f1-score   support\n",
      "\n",
      "           0       0.89      0.83      0.86        29\n",
      "           1       0.68      0.87      0.76        15\n",
      "           2       0.90      1.00      0.95         9\n",
      "           3       0.88      0.78      0.82         9\n",
      "           4       1.00      0.50      0.67         4\n",
      "\n",
      "    accuracy                           0.83        66\n",
      "   macro avg       0.87      0.79      0.81        66\n",
      "weighted avg       0.85      0.83      0.83        66\n",
      "\n",
      "{\n",
      "    \"training\": {\n",
      "        \"device\": \"cuda\"\n",
      "    },\n",
      "    \"loss\": {\n",
      "        \"type\": \"MultiOmicsLoss\",\n",
      "        \"beta\": 1,\n",
      "        \"use_focal\": false,\n",
      "        \"focal_gamma\": 2.0,\n",
      "        \"label_smoothing\": 0.0,\n",
      "        \"kl_epsilon\": 1e-08\n",
      "    },\n",
      "    \"optimizer\": {\n",
      "        \"type\": \"Adam\",\n",
      "        \"lr\": 2e-05,\n",
      "        \"betas\": [\n",
      "            0.9,\n",
      "            0.999\n",
      "        ],\n",
      "        \"eps\": 1e-08,\n",
      "        \"weight_decay\": 0\n",
      "    }\n",
      "}\n"
     ]
    }
   ],
   "source": [
    "preds, targets = trainer.predict(dataloaders[\"test\"])\n",
    "acc = accuracy_score(targets.numpy(), preds.numpy())\n",
    "print(f\"✅ Test Accuracy: {acc:.4f}\")\n",
    "\n",
    "print(classification_report(targets.numpy(), preds.numpy()))\n",
    "params = get_training_parameters(trainer)\n",
    "\n",
    "print(json.dumps(params, indent=4))\n",
    "\n"
   ]
  },
  {
   "cell_type": "code",
   "execution_count": null,
   "id": "0720b285-63b6-44bb-b776-1b222d419482",
   "metadata": {},
   "outputs": [],
   "source": []
  }
 ],
 "metadata": {
  "kernelspec": {
   "display_name": "cs7643_a4_generative",
   "language": "python",
   "name": "cs7643_a4_generative"
  },
  "language_info": {
   "codemirror_mode": {
    "name": "ipython",
    "version": 3
   },
   "file_extension": ".py",
   "mimetype": "text/x-python",
   "name": "python",
   "nbconvert_exporter": "python",
   "pygments_lexer": "ipython3",
   "version": "3.11.11"
  }
 },
 "nbformat": 4,
 "nbformat_minor": 5
}
